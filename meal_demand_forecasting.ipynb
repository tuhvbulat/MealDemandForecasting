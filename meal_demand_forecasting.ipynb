{
  "nbformat": 4,
  "nbformat_minor": 0,
  "metadata": {
    "colab": {
      "name": "meal_demand_forecasting.ipynb",
      "provenance": [],
      "collapsed_sections": [],
      "toc_visible": true,
      "include_colab_link": true
    },
    "kernelspec": {
      "name": "python3",
      "display_name": "Python 3"
    },
    "language_info": {
      "name": "python"
    },
    "accelerator": "GPU"
  },
  "cells": [
    {
      "cell_type": "markdown",
      "metadata": {
        "id": "view-in-github",
        "colab_type": "text"
      },
      "source": [
        "<a href=\"https://colab.research.google.com/github/tuhvbulat/MealDemandForecasting/blob/main/meal_demand_forecasting.ipynb\" target=\"_parent\"><img src=\"https://colab.research.google.com/assets/colab-badge.svg\" alt=\"Open In Colab\"/></a>"
      ]
    },
    {
      "cell_type": "markdown",
      "metadata": {
        "id": "Q6Amlcx4V7rl"
      },
      "source": [
        "# Meal Demand Forecasting\n",
        "\n",
        "[Ссылка на соревнование](https://www.kaggle.com/sureshmecad/meal-demand-forecasting)"
      ]
    },
    {
      "cell_type": "markdown",
      "metadata": {
        "id": "eH4E09h2Xsm4"
      },
      "source": [
        "---\n",
        "\n",
        "**Описание бизнес-задачи:**\n",
        "\n",
        "- Компания по доставке еды имеет различные центры выполнения заказов в нескольких городах. Она хочет, чтобы мы помогли этим центрам **в прогнозировании спроса на 1 ближайшую неделю**, чтобы правильно спланировать запасы продуктов. Также компания просит оценить *экономический эффект* и *точность нашего прогноза*, чтобы понимать, насколько хорош наш алгоритм и насколько можно ему доверять.\n",
        "\n",
        "- В данном случае необходима оптимизация логистического бизнес-процесса, чтобы эффективно использовать складские помещения и поддерживать оптимальный объем продукции.\n",
        "\n",
        "**Бизнес-цель:** \n",
        "\n",
        "- Оптимизация расчётов потребностей складов в продукции для минимизации возможных потерь.\n",
        "\n",
        "- Оценка успешности будет происходить с помощью измерения объёма невостребованной продукции на складе и нехватившей продукции, вызвавшей неудовлетворённый спрос. *Критерий успеха:* предсказанный спрос удовлетворяет существующие потребности клиентов, при этом невостребованных запасов на складе должно быть сведено к минимуму.\n",
        "\n",
        "Это было описание бизнес-кейса. Давайте теперь сформулируем математическую постановку задачи данного бизнес-кейса.\n",
        "\n",
        "--- \n",
        "\n",
        "**Математическая постановка задачи:** \n",
        "\n",
        "- Разработка модели машинного обучения на основании данных о динамике спроса в прошлом путем изучения объемов продаж за определенный период времени для решения задачи регрессии по предсказанию спроса на продукцию компании на 1 неделю. Вероятностная модель не требуется. \n",
        "\n",
        "- Модель может быть интегрирована в рабочую среду отвественных за расчёт потребностей в продукции складов в виде дополнительной программы. Далее это может быть использовано для организации доставки продукции до складов.\n",
        "\n",
        "**Метрика качества:**\n",
        "\n",
        "- Будет использована **MAPE**, поскольку данная метрика может быть легко интерпретирована для бизнес-целей как процент ошибки относительно истинного ответа"
      ]
    },
    {
      "cell_type": "markdown",
      "metadata": {
        "id": "9jPe7-rfQN0F"
      },
      "source": [
        "---\n",
        "\n",
        "**Актуальность задачи:**\n",
        "\n",
        "- Запасы продукции – это залог того, что компания получает прибыль, а значит, её бизнес процветает, поэтому нужно точно знать, когда и сколько её нужно закупить.\n",
        "\n",
        "- Для компании по доставке еды важно правильное планирование закупок. Если не учесть этот момент, то можно столкнуться с проблемой нехватки или излишка товара и, как следствие, с убытками. Необходимо соблюдать баланс между количеством запасов и оборотом, в котором они используются. С одной стороны, запасов продуктов на складах должно быть достаточно, чтобы удовлетворить существующие потребности клиентов. С другой стороны, неправильное планирование запасов ведёт к тому, что много невостребованной продукции, хранящейся на одном из складов, может стать непригодной к употреблению (истечение срока годности), что приведёт к дополнительным расходам на утилизацию. "
      ]
    },
    {
      "cell_type": "code",
      "metadata": {
        "id": "IakHFGNwKzGW"
      },
      "source": [
        "import os\n",
        "\n",
        "import numpy as np # linear algebra\n",
        "import pandas as pd # data processing, CSV file I/O (e.g. pd.read_csv)\n",
        "\n",
        "from tqdm.auto import tqdm\n",
        "\n",
        "# Set up Screen output\n",
        "pd.set_option('display.max_columns', 200)\n",
        "\n",
        "import matplotlib.pyplot as plt\n",
        "import seaborn as sns\n",
        "large = 22; med = 16; small = 12\n",
        "params = {'axes.titlesize': large,\n",
        "          'legend.fontsize': med,\n",
        "          'axes.labelsize': med,\n",
        "          'axes.titlesize': large,\n",
        "          'xtick.labelsize': med,\n",
        "          'ytick.labelsize': med,\n",
        "          'figure.titlesize': large}\n",
        "plt.rcParams.update(params)\n",
        "plt.style.use('seaborn-whitegrid')\n",
        "sns.set_style(\"white\")\n",
        "%matplotlib inline\n",
        "\n",
        "# Игнорируем назойливые предупреждения\n",
        "import warnings\n",
        "warnings.simplefilter(\"ignore\", UserWarning)\n",
        "warnings.simplefilter(\"ignore\", FutureWarning)"
      ],
      "execution_count": null,
      "outputs": []
    },
    {
      "cell_type": "markdown",
      "metadata": {
        "id": "tnB5XnJVgTNr"
      },
      "source": [
        "Установим библиотеку `catboost` и утилиту `shap` для визуализации важности признаков.\n",
        "\n",
        "*Флаг `-q` позволяет отключить дебажный вывод.*"
      ]
    },
    {
      "cell_type": "code",
      "metadata": {
        "id": "rQ2KdfrQpCWT",
        "colab": {
          "base_uri": "https://localhost:8080/"
        },
        "outputId": "2e51259c-581a-416a-f712-85d90caf4f82"
      },
      "source": [
        "!pip install -q catboost shap"
      ],
      "execution_count": null,
      "outputs": [
        {
          "output_type": "stream",
          "name": "stdout",
          "text": [
            "\u001b[K     |████████████████████████████████| 76.3 MB 1.3 MB/s \n",
            "\u001b[K     |████████████████████████████████| 564 kB 36.2 MB/s \n",
            "\u001b[K     |████████████████████████████████| 23.2 MB 1.9 MB/s \n",
            "\u001b[?25h"
          ]
        }
      ]
    },
    {
      "cell_type": "code",
      "metadata": {
        "id": "f7VfMDsKbboV"
      },
      "source": [
        "from termcolor import cprint # For making colorful printing texts\n",
        "\n",
        "from sklearn.model_selection import train_test_split, GridSearchCV\n",
        "\n",
        "import catboost\n",
        "from catboost import CatBoostRegressor\n",
        "\n",
        "from sklearn.model_selection import KFold\n",
        "from sklearn.metrics import mean_absolute_percentage_error\n",
        "from sklearn.ensemble import RandomForestRegressor\n",
        "from sklearn.model_selection import train_test_split\n",
        "\n",
        "import math "
      ],
      "execution_count": null,
      "outputs": []
    },
    {
      "cell_type": "code",
      "metadata": {
        "id": "LWUl-DCoNRsj",
        "colab": {
          "base_uri": "https://localhost:8080/"
        },
        "outputId": "375582e7-e236-4023-dcc1-ac77f6a08aa5"
      },
      "source": [
        "from google.colab import drive\n",
        "drive.mount('/content/drive')"
      ],
      "execution_count": null,
      "outputs": [
        {
          "output_type": "stream",
          "name": "stdout",
          "text": [
            "Mounted at /content/drive\n"
          ]
        }
      ]
    },
    {
      "cell_type": "markdown",
      "metadata": {
        "id": "YqVOVnM7ROYq"
      },
      "source": [
        "# Part 0: Data"
      ]
    },
    {
      "cell_type": "markdown",
      "metadata": {
        "id": "i5ZXyKC8FMP-"
      },
      "source": [
        "Перед нами данные из реальной жизни. Поэтому какие-то товары могут быть очень новыми и у них слишком короткая история для прогнозирования продаж для них. Некоторые товары дорогие и покупаются не каждую неделю/месяц. В общем все, что присуще продажам товаров в магазинах.\n",
        "\n",
        "Однако у нас большая тренировочная выборка (целых 145 недель), что может позволить нам хорошо спрогнозировать спрос на непопулярные товары."
      ]
    },
    {
      "cell_type": "code",
      "metadata": {
        "id": "AePg0dt2NTaB"
      },
      "source": [
        "DATA_DIR = \"/content/drive/My Drive/MTS.Teta Summer school/meal_demand_forecasting/data\"\n",
        "\n",
        "train = pd.read_csv(os.path.join(DATA_DIR, \"train.csv\"))\n",
        "test = pd.read_csv(os.path.join(DATA_DIR, \"test.csv\"))\n",
        "\n",
        "meal_info = pd.read_csv(os.path.join(DATA_DIR, \"meal_info.csv\"))\n",
        "fulfilment_center_info = pd.read_csv(os.path.join(DATA_DIR, \"fulfilment_center_info.csv\"))"
      ],
      "execution_count": null,
      "outputs": []
    },
    {
      "cell_type": "code",
      "metadata": {
        "id": "dMs6BfVbPQ53",
        "colab": {
          "base_uri": "https://localhost:8080/"
        },
        "outputId": "27bc936b-e789-40a1-9dfd-aa497cc5fec1"
      },
      "source": [
        "# making colorful printing texts\n",
        "print('\\nShape of the Train set:', train.shape)\n",
        "cprint('*'*35, 'green')\n",
        "\n",
        "print('\\nShape of the Test set:', test.shape)\n",
        "cprint('*'*35, 'green')\n",
        "\n",
        "print('\\nShape of the Meal Info set:', meal_info.shape)\n",
        "cprint('*'*35, 'green')\n",
        "\n",
        "print('\\nShape of the Fulfilment Center Info set:', fulfilment_center_info.shape)\n",
        "cprint('*'*35, 'green')"
      ],
      "execution_count": null,
      "outputs": [
        {
          "output_type": "stream",
          "name": "stdout",
          "text": [
            "\n",
            "Shape of the Train set: (456548, 9)\n",
            "\u001b[32m***********************************\u001b[0m\n",
            "\n",
            "Shape of the Test set: (32573, 8)\n",
            "\u001b[32m***********************************\u001b[0m\n",
            "\n",
            "Shape of the Meal Info set: (51, 3)\n",
            "\u001b[32m***********************************\u001b[0m\n",
            "\n",
            "Shape of the Fulfilment Center Info set: (77, 5)\n",
            "\u001b[32m***********************************\u001b[0m\n"
          ]
        }
      ]
    },
    {
      "cell_type": "markdown",
      "metadata": {
        "id": "54O-_VWLRUbi"
      },
      "source": [
        "### `train` & `test`\n",
        "\n",
        "Исторические данные о спросе на комбинацию \"продукт-центр\" (недели: от 1 до 145):\n",
        "\n",
        "- `id` - Unique ID\n",
        "- `week` - Week No\n",
        "- `center_id` - Unique ID for fulfillment center\n",
        "- `meal_id` - Unique ID for Meal\n",
        "- `checkout_price` - Final price including discount, taxes & delivery charges\n",
        "- `base_price` - Base price of the meal\n",
        "- `emailer_for_promotion` - Emailer sent for promotion of meal\n",
        "- `homepage_featured` - Meal featured at homepage\n",
        "- **`num_orders`** - (Target) Orders Count (в train)"
      ]
    },
    {
      "cell_type": "code",
      "metadata": {
        "id": "lepdzTkrR0fw",
        "colab": {
          "base_uri": "https://localhost:8080/",
          "height": 424
        },
        "outputId": "925d1a5b-5e6b-4455-93dc-456302d64716"
      },
      "source": [
        "train"
      ],
      "execution_count": null,
      "outputs": [
        {
          "output_type": "execute_result",
          "data": {
            "text/html": [
              "\n",
              "  <div id=\"df-08d072d5-7610-4374-81c8-5ef3689e3d91\">\n",
              "    <div class=\"colab-df-container\">\n",
              "      <div>\n",
              "<style scoped>\n",
              "    .dataframe tbody tr th:only-of-type {\n",
              "        vertical-align: middle;\n",
              "    }\n",
              "\n",
              "    .dataframe tbody tr th {\n",
              "        vertical-align: top;\n",
              "    }\n",
              "\n",
              "    .dataframe thead th {\n",
              "        text-align: right;\n",
              "    }\n",
              "</style>\n",
              "<table border=\"1\" class=\"dataframe\">\n",
              "  <thead>\n",
              "    <tr style=\"text-align: right;\">\n",
              "      <th></th>\n",
              "      <th>id</th>\n",
              "      <th>week</th>\n",
              "      <th>center_id</th>\n",
              "      <th>meal_id</th>\n",
              "      <th>checkout_price</th>\n",
              "      <th>base_price</th>\n",
              "      <th>emailer_for_promotion</th>\n",
              "      <th>homepage_featured</th>\n",
              "      <th>num_orders</th>\n",
              "    </tr>\n",
              "  </thead>\n",
              "  <tbody>\n",
              "    <tr>\n",
              "      <th>0</th>\n",
              "      <td>1379560</td>\n",
              "      <td>1</td>\n",
              "      <td>55</td>\n",
              "      <td>1885</td>\n",
              "      <td>136.83</td>\n",
              "      <td>152.29</td>\n",
              "      <td>0</td>\n",
              "      <td>0</td>\n",
              "      <td>177</td>\n",
              "    </tr>\n",
              "    <tr>\n",
              "      <th>1</th>\n",
              "      <td>1466964</td>\n",
              "      <td>1</td>\n",
              "      <td>55</td>\n",
              "      <td>1993</td>\n",
              "      <td>136.83</td>\n",
              "      <td>135.83</td>\n",
              "      <td>0</td>\n",
              "      <td>0</td>\n",
              "      <td>270</td>\n",
              "    </tr>\n",
              "    <tr>\n",
              "      <th>2</th>\n",
              "      <td>1346989</td>\n",
              "      <td>1</td>\n",
              "      <td>55</td>\n",
              "      <td>2539</td>\n",
              "      <td>134.86</td>\n",
              "      <td>135.86</td>\n",
              "      <td>0</td>\n",
              "      <td>0</td>\n",
              "      <td>189</td>\n",
              "    </tr>\n",
              "    <tr>\n",
              "      <th>3</th>\n",
              "      <td>1338232</td>\n",
              "      <td>1</td>\n",
              "      <td>55</td>\n",
              "      <td>2139</td>\n",
              "      <td>339.50</td>\n",
              "      <td>437.53</td>\n",
              "      <td>0</td>\n",
              "      <td>0</td>\n",
              "      <td>54</td>\n",
              "    </tr>\n",
              "    <tr>\n",
              "      <th>4</th>\n",
              "      <td>1448490</td>\n",
              "      <td>1</td>\n",
              "      <td>55</td>\n",
              "      <td>2631</td>\n",
              "      <td>243.50</td>\n",
              "      <td>242.50</td>\n",
              "      <td>0</td>\n",
              "      <td>0</td>\n",
              "      <td>40</td>\n",
              "    </tr>\n",
              "    <tr>\n",
              "      <th>...</th>\n",
              "      <td>...</td>\n",
              "      <td>...</td>\n",
              "      <td>...</td>\n",
              "      <td>...</td>\n",
              "      <td>...</td>\n",
              "      <td>...</td>\n",
              "      <td>...</td>\n",
              "      <td>...</td>\n",
              "      <td>...</td>\n",
              "    </tr>\n",
              "    <tr>\n",
              "      <th>456543</th>\n",
              "      <td>1271326</td>\n",
              "      <td>145</td>\n",
              "      <td>61</td>\n",
              "      <td>1543</td>\n",
              "      <td>484.09</td>\n",
              "      <td>484.09</td>\n",
              "      <td>0</td>\n",
              "      <td>0</td>\n",
              "      <td>68</td>\n",
              "    </tr>\n",
              "    <tr>\n",
              "      <th>456544</th>\n",
              "      <td>1062036</td>\n",
              "      <td>145</td>\n",
              "      <td>61</td>\n",
              "      <td>2304</td>\n",
              "      <td>482.09</td>\n",
              "      <td>482.09</td>\n",
              "      <td>0</td>\n",
              "      <td>0</td>\n",
              "      <td>42</td>\n",
              "    </tr>\n",
              "    <tr>\n",
              "      <th>456545</th>\n",
              "      <td>1110849</td>\n",
              "      <td>145</td>\n",
              "      <td>61</td>\n",
              "      <td>2664</td>\n",
              "      <td>237.68</td>\n",
              "      <td>321.07</td>\n",
              "      <td>0</td>\n",
              "      <td>0</td>\n",
              "      <td>501</td>\n",
              "    </tr>\n",
              "    <tr>\n",
              "      <th>456546</th>\n",
              "      <td>1147725</td>\n",
              "      <td>145</td>\n",
              "      <td>61</td>\n",
              "      <td>2569</td>\n",
              "      <td>243.50</td>\n",
              "      <td>313.34</td>\n",
              "      <td>0</td>\n",
              "      <td>0</td>\n",
              "      <td>729</td>\n",
              "    </tr>\n",
              "    <tr>\n",
              "      <th>456547</th>\n",
              "      <td>1361984</td>\n",
              "      <td>145</td>\n",
              "      <td>61</td>\n",
              "      <td>2490</td>\n",
              "      <td>292.03</td>\n",
              "      <td>290.03</td>\n",
              "      <td>0</td>\n",
              "      <td>0</td>\n",
              "      <td>162</td>\n",
              "    </tr>\n",
              "  </tbody>\n",
              "</table>\n",
              "<p>456548 rows × 9 columns</p>\n",
              "</div>\n",
              "      <button class=\"colab-df-convert\" onclick=\"convertToInteractive('df-08d072d5-7610-4374-81c8-5ef3689e3d91')\"\n",
              "              title=\"Convert this dataframe to an interactive table.\"\n",
              "              style=\"display:none;\">\n",
              "        \n",
              "  <svg xmlns=\"http://www.w3.org/2000/svg\" height=\"24px\"viewBox=\"0 0 24 24\"\n",
              "       width=\"24px\">\n",
              "    <path d=\"M0 0h24v24H0V0z\" fill=\"none\"/>\n",
              "    <path d=\"M18.56 5.44l.94 2.06.94-2.06 2.06-.94-2.06-.94-.94-2.06-.94 2.06-2.06.94zm-11 1L8.5 8.5l.94-2.06 2.06-.94-2.06-.94L8.5 2.5l-.94 2.06-2.06.94zm10 10l.94 2.06.94-2.06 2.06-.94-2.06-.94-.94-2.06-.94 2.06-2.06.94z\"/><path d=\"M17.41 7.96l-1.37-1.37c-.4-.4-.92-.59-1.43-.59-.52 0-1.04.2-1.43.59L10.3 9.45l-7.72 7.72c-.78.78-.78 2.05 0 2.83L4 21.41c.39.39.9.59 1.41.59.51 0 1.02-.2 1.41-.59l7.78-7.78 2.81-2.81c.8-.78.8-2.07 0-2.86zM5.41 20L4 18.59l7.72-7.72 1.47 1.35L5.41 20z\"/>\n",
              "  </svg>\n",
              "      </button>\n",
              "      \n",
              "  <style>\n",
              "    .colab-df-container {\n",
              "      display:flex;\n",
              "      flex-wrap:wrap;\n",
              "      gap: 12px;\n",
              "    }\n",
              "\n",
              "    .colab-df-convert {\n",
              "      background-color: #E8F0FE;\n",
              "      border: none;\n",
              "      border-radius: 50%;\n",
              "      cursor: pointer;\n",
              "      display: none;\n",
              "      fill: #1967D2;\n",
              "      height: 32px;\n",
              "      padding: 0 0 0 0;\n",
              "      width: 32px;\n",
              "    }\n",
              "\n",
              "    .colab-df-convert:hover {\n",
              "      background-color: #E2EBFA;\n",
              "      box-shadow: 0px 1px 2px rgba(60, 64, 67, 0.3), 0px 1px 3px 1px rgba(60, 64, 67, 0.15);\n",
              "      fill: #174EA6;\n",
              "    }\n",
              "\n",
              "    [theme=dark] .colab-df-convert {\n",
              "      background-color: #3B4455;\n",
              "      fill: #D2E3FC;\n",
              "    }\n",
              "\n",
              "    [theme=dark] .colab-df-convert:hover {\n",
              "      background-color: #434B5C;\n",
              "      box-shadow: 0px 1px 3px 1px rgba(0, 0, 0, 0.15);\n",
              "      filter: drop-shadow(0px 1px 2px rgba(0, 0, 0, 0.3));\n",
              "      fill: #FFFFFF;\n",
              "    }\n",
              "  </style>\n",
              "\n",
              "      <script>\n",
              "        const buttonEl =\n",
              "          document.querySelector('#df-08d072d5-7610-4374-81c8-5ef3689e3d91 button.colab-df-convert');\n",
              "        buttonEl.style.display =\n",
              "          google.colab.kernel.accessAllowed ? 'block' : 'none';\n",
              "\n",
              "        async function convertToInteractive(key) {\n",
              "          const element = document.querySelector('#df-08d072d5-7610-4374-81c8-5ef3689e3d91');\n",
              "          const dataTable =\n",
              "            await google.colab.kernel.invokeFunction('convertToInteractive',\n",
              "                                                     [key], {});\n",
              "          if (!dataTable) return;\n",
              "\n",
              "          const docLinkHtml = 'Like what you see? Visit the ' +\n",
              "            '<a target=\"_blank\" href=https://colab.research.google.com/notebooks/data_table.ipynb>data table notebook</a>'\n",
              "            + ' to learn more about interactive tables.';\n",
              "          element.innerHTML = '';\n",
              "          dataTable['output_type'] = 'display_data';\n",
              "          await google.colab.output.renderOutput(dataTable, element);\n",
              "          const docLink = document.createElement('div');\n",
              "          docLink.innerHTML = docLinkHtml;\n",
              "          element.appendChild(docLink);\n",
              "        }\n",
              "      </script>\n",
              "    </div>\n",
              "  </div>\n",
              "  "
            ],
            "text/plain": [
              "             id  week  center_id  meal_id  checkout_price  base_price  \\\n",
              "0       1379560     1         55     1885          136.83      152.29   \n",
              "1       1466964     1         55     1993          136.83      135.83   \n",
              "2       1346989     1         55     2539          134.86      135.86   \n",
              "3       1338232     1         55     2139          339.50      437.53   \n",
              "4       1448490     1         55     2631          243.50      242.50   \n",
              "...         ...   ...        ...      ...             ...         ...   \n",
              "456543  1271326   145         61     1543          484.09      484.09   \n",
              "456544  1062036   145         61     2304          482.09      482.09   \n",
              "456545  1110849   145         61     2664          237.68      321.07   \n",
              "456546  1147725   145         61     2569          243.50      313.34   \n",
              "456547  1361984   145         61     2490          292.03      290.03   \n",
              "\n",
              "        emailer_for_promotion  homepage_featured  num_orders  \n",
              "0                           0                  0         177  \n",
              "1                           0                  0         270  \n",
              "2                           0                  0         189  \n",
              "3                           0                  0          54  \n",
              "4                           0                  0          40  \n",
              "...                       ...                ...         ...  \n",
              "456543                      0                  0          68  \n",
              "456544                      0                  0          42  \n",
              "456545                      0                  0         501  \n",
              "456546                      0                  0         729  \n",
              "456547                      0                  0         162  \n",
              "\n",
              "[456548 rows x 9 columns]"
            ]
          },
          "metadata": {},
          "execution_count": 7
        }
      ]
    },
    {
      "cell_type": "code",
      "metadata": {
        "id": "xC0OhChSR31q",
        "colab": {
          "base_uri": "https://localhost:8080/",
          "height": 424
        },
        "outputId": "665b1f44-8e05-4980-89d1-0a42d58c5b4d"
      },
      "source": [
        "test"
      ],
      "execution_count": null,
      "outputs": [
        {
          "output_type": "execute_result",
          "data": {
            "text/html": [
              "\n",
              "  <div id=\"df-9bc07bda-485b-4621-9e6a-57cbf2c15d4e\">\n",
              "    <div class=\"colab-df-container\">\n",
              "      <div>\n",
              "<style scoped>\n",
              "    .dataframe tbody tr th:only-of-type {\n",
              "        vertical-align: middle;\n",
              "    }\n",
              "\n",
              "    .dataframe tbody tr th {\n",
              "        vertical-align: top;\n",
              "    }\n",
              "\n",
              "    .dataframe thead th {\n",
              "        text-align: right;\n",
              "    }\n",
              "</style>\n",
              "<table border=\"1\" class=\"dataframe\">\n",
              "  <thead>\n",
              "    <tr style=\"text-align: right;\">\n",
              "      <th></th>\n",
              "      <th>id</th>\n",
              "      <th>week</th>\n",
              "      <th>center_id</th>\n",
              "      <th>meal_id</th>\n",
              "      <th>checkout_price</th>\n",
              "      <th>base_price</th>\n",
              "      <th>emailer_for_promotion</th>\n",
              "      <th>homepage_featured</th>\n",
              "    </tr>\n",
              "  </thead>\n",
              "  <tbody>\n",
              "    <tr>\n",
              "      <th>0</th>\n",
              "      <td>1028232</td>\n",
              "      <td>146</td>\n",
              "      <td>55</td>\n",
              "      <td>1885</td>\n",
              "      <td>158.11</td>\n",
              "      <td>159.11</td>\n",
              "      <td>0</td>\n",
              "      <td>0</td>\n",
              "    </tr>\n",
              "    <tr>\n",
              "      <th>1</th>\n",
              "      <td>1127204</td>\n",
              "      <td>146</td>\n",
              "      <td>55</td>\n",
              "      <td>1993</td>\n",
              "      <td>160.11</td>\n",
              "      <td>159.11</td>\n",
              "      <td>0</td>\n",
              "      <td>0</td>\n",
              "    </tr>\n",
              "    <tr>\n",
              "      <th>2</th>\n",
              "      <td>1212707</td>\n",
              "      <td>146</td>\n",
              "      <td>55</td>\n",
              "      <td>2539</td>\n",
              "      <td>157.14</td>\n",
              "      <td>159.14</td>\n",
              "      <td>0</td>\n",
              "      <td>0</td>\n",
              "    </tr>\n",
              "    <tr>\n",
              "      <th>3</th>\n",
              "      <td>1082698</td>\n",
              "      <td>146</td>\n",
              "      <td>55</td>\n",
              "      <td>2631</td>\n",
              "      <td>162.02</td>\n",
              "      <td>162.02</td>\n",
              "      <td>0</td>\n",
              "      <td>0</td>\n",
              "    </tr>\n",
              "    <tr>\n",
              "      <th>4</th>\n",
              "      <td>1400926</td>\n",
              "      <td>146</td>\n",
              "      <td>55</td>\n",
              "      <td>1248</td>\n",
              "      <td>163.93</td>\n",
              "      <td>163.93</td>\n",
              "      <td>0</td>\n",
              "      <td>0</td>\n",
              "    </tr>\n",
              "    <tr>\n",
              "      <th>...</th>\n",
              "      <td>...</td>\n",
              "      <td>...</td>\n",
              "      <td>...</td>\n",
              "      <td>...</td>\n",
              "      <td>...</td>\n",
              "      <td>...</td>\n",
              "      <td>...</td>\n",
              "      <td>...</td>\n",
              "    </tr>\n",
              "    <tr>\n",
              "      <th>32568</th>\n",
              "      <td>1250239</td>\n",
              "      <td>155</td>\n",
              "      <td>61</td>\n",
              "      <td>1543</td>\n",
              "      <td>482.09</td>\n",
              "      <td>484.09</td>\n",
              "      <td>0</td>\n",
              "      <td>0</td>\n",
              "    </tr>\n",
              "    <tr>\n",
              "      <th>32569</th>\n",
              "      <td>1039516</td>\n",
              "      <td>155</td>\n",
              "      <td>61</td>\n",
              "      <td>2304</td>\n",
              "      <td>483.09</td>\n",
              "      <td>483.09</td>\n",
              "      <td>0</td>\n",
              "      <td>0</td>\n",
              "    </tr>\n",
              "    <tr>\n",
              "      <th>32570</th>\n",
              "      <td>1158107</td>\n",
              "      <td>155</td>\n",
              "      <td>61</td>\n",
              "      <td>2664</td>\n",
              "      <td>322.07</td>\n",
              "      <td>323.07</td>\n",
              "      <td>0</td>\n",
              "      <td>0</td>\n",
              "    </tr>\n",
              "    <tr>\n",
              "      <th>32571</th>\n",
              "      <td>1444235</td>\n",
              "      <td>155</td>\n",
              "      <td>61</td>\n",
              "      <td>2569</td>\n",
              "      <td>322.07</td>\n",
              "      <td>323.07</td>\n",
              "      <td>0</td>\n",
              "      <td>0</td>\n",
              "    </tr>\n",
              "    <tr>\n",
              "      <th>32572</th>\n",
              "      <td>1291286</td>\n",
              "      <td>155</td>\n",
              "      <td>61</td>\n",
              "      <td>2490</td>\n",
              "      <td>276.45</td>\n",
              "      <td>276.45</td>\n",
              "      <td>0</td>\n",
              "      <td>0</td>\n",
              "    </tr>\n",
              "  </tbody>\n",
              "</table>\n",
              "<p>32573 rows × 8 columns</p>\n",
              "</div>\n",
              "      <button class=\"colab-df-convert\" onclick=\"convertToInteractive('df-9bc07bda-485b-4621-9e6a-57cbf2c15d4e')\"\n",
              "              title=\"Convert this dataframe to an interactive table.\"\n",
              "              style=\"display:none;\">\n",
              "        \n",
              "  <svg xmlns=\"http://www.w3.org/2000/svg\" height=\"24px\"viewBox=\"0 0 24 24\"\n",
              "       width=\"24px\">\n",
              "    <path d=\"M0 0h24v24H0V0z\" fill=\"none\"/>\n",
              "    <path d=\"M18.56 5.44l.94 2.06.94-2.06 2.06-.94-2.06-.94-.94-2.06-.94 2.06-2.06.94zm-11 1L8.5 8.5l.94-2.06 2.06-.94-2.06-.94L8.5 2.5l-.94 2.06-2.06.94zm10 10l.94 2.06.94-2.06 2.06-.94-2.06-.94-.94-2.06-.94 2.06-2.06.94z\"/><path d=\"M17.41 7.96l-1.37-1.37c-.4-.4-.92-.59-1.43-.59-.52 0-1.04.2-1.43.59L10.3 9.45l-7.72 7.72c-.78.78-.78 2.05 0 2.83L4 21.41c.39.39.9.59 1.41.59.51 0 1.02-.2 1.41-.59l7.78-7.78 2.81-2.81c.8-.78.8-2.07 0-2.86zM5.41 20L4 18.59l7.72-7.72 1.47 1.35L5.41 20z\"/>\n",
              "  </svg>\n",
              "      </button>\n",
              "      \n",
              "  <style>\n",
              "    .colab-df-container {\n",
              "      display:flex;\n",
              "      flex-wrap:wrap;\n",
              "      gap: 12px;\n",
              "    }\n",
              "\n",
              "    .colab-df-convert {\n",
              "      background-color: #E8F0FE;\n",
              "      border: none;\n",
              "      border-radius: 50%;\n",
              "      cursor: pointer;\n",
              "      display: none;\n",
              "      fill: #1967D2;\n",
              "      height: 32px;\n",
              "      padding: 0 0 0 0;\n",
              "      width: 32px;\n",
              "    }\n",
              "\n",
              "    .colab-df-convert:hover {\n",
              "      background-color: #E2EBFA;\n",
              "      box-shadow: 0px 1px 2px rgba(60, 64, 67, 0.3), 0px 1px 3px 1px rgba(60, 64, 67, 0.15);\n",
              "      fill: #174EA6;\n",
              "    }\n",
              "\n",
              "    [theme=dark] .colab-df-convert {\n",
              "      background-color: #3B4455;\n",
              "      fill: #D2E3FC;\n",
              "    }\n",
              "\n",
              "    [theme=dark] .colab-df-convert:hover {\n",
              "      background-color: #434B5C;\n",
              "      box-shadow: 0px 1px 3px 1px rgba(0, 0, 0, 0.15);\n",
              "      filter: drop-shadow(0px 1px 2px rgba(0, 0, 0, 0.3));\n",
              "      fill: #FFFFFF;\n",
              "    }\n",
              "  </style>\n",
              "\n",
              "      <script>\n",
              "        const buttonEl =\n",
              "          document.querySelector('#df-9bc07bda-485b-4621-9e6a-57cbf2c15d4e button.colab-df-convert');\n",
              "        buttonEl.style.display =\n",
              "          google.colab.kernel.accessAllowed ? 'block' : 'none';\n",
              "\n",
              "        async function convertToInteractive(key) {\n",
              "          const element = document.querySelector('#df-9bc07bda-485b-4621-9e6a-57cbf2c15d4e');\n",
              "          const dataTable =\n",
              "            await google.colab.kernel.invokeFunction('convertToInteractive',\n",
              "                                                     [key], {});\n",
              "          if (!dataTable) return;\n",
              "\n",
              "          const docLinkHtml = 'Like what you see? Visit the ' +\n",
              "            '<a target=\"_blank\" href=https://colab.research.google.com/notebooks/data_table.ipynb>data table notebook</a>'\n",
              "            + ' to learn more about interactive tables.';\n",
              "          element.innerHTML = '';\n",
              "          dataTable['output_type'] = 'display_data';\n",
              "          await google.colab.output.renderOutput(dataTable, element);\n",
              "          const docLink = document.createElement('div');\n",
              "          docLink.innerHTML = docLinkHtml;\n",
              "          element.appendChild(docLink);\n",
              "        }\n",
              "      </script>\n",
              "    </div>\n",
              "  </div>\n",
              "  "
            ],
            "text/plain": [
              "            id  week  center_id  meal_id  checkout_price  base_price  \\\n",
              "0      1028232   146         55     1885          158.11      159.11   \n",
              "1      1127204   146         55     1993          160.11      159.11   \n",
              "2      1212707   146         55     2539          157.14      159.14   \n",
              "3      1082698   146         55     2631          162.02      162.02   \n",
              "4      1400926   146         55     1248          163.93      163.93   \n",
              "...        ...   ...        ...      ...             ...         ...   \n",
              "32568  1250239   155         61     1543          482.09      484.09   \n",
              "32569  1039516   155         61     2304          483.09      483.09   \n",
              "32570  1158107   155         61     2664          322.07      323.07   \n",
              "32571  1444235   155         61     2569          322.07      323.07   \n",
              "32572  1291286   155         61     2490          276.45      276.45   \n",
              "\n",
              "       emailer_for_promotion  homepage_featured  \n",
              "0                          0                  0  \n",
              "1                          0                  0  \n",
              "2                          0                  0  \n",
              "3                          0                  0  \n",
              "4                          0                  0  \n",
              "...                      ...                ...  \n",
              "32568                      0                  0  \n",
              "32569                      0                  0  \n",
              "32570                      0                  0  \n",
              "32571                      0                  0  \n",
              "32572                      0                  0  \n",
              "\n",
              "[32573 rows x 8 columns]"
            ]
          },
          "metadata": {},
          "execution_count": 8
        }
      ]
    },
    {
      "cell_type": "markdown",
      "metadata": {
        "id": "ogex3pExSLVE"
      },
      "source": [
        "### `meal_info`\n",
        "\n",
        "Характеристики продуктов (еды), такие как категория и кухня:\n",
        "\n",
        "- `meal_id` - Unique ID for the meal\n",
        "- `category` - Type of meal (beverages/snacks/soups….)\n",
        "- `cuisine` - Meal cuisine (Indian/Italian/…)"
      ]
    },
    {
      "cell_type": "code",
      "metadata": {
        "id": "DfJ-ztuRSiSv",
        "colab": {
          "base_uri": "https://localhost:8080/",
          "height": 362
        },
        "outputId": "c047069c-a9d2-49e0-a3aa-6fb85fbd018a"
      },
      "source": [
        "pd.concat((meal_info.head(), \n",
        "           meal_info.tail()))"
      ],
      "execution_count": null,
      "outputs": [
        {
          "output_type": "execute_result",
          "data": {
            "text/html": [
              "\n",
              "  <div id=\"df-c189e8a3-4869-4b31-806a-2d4ed08bd4e7\">\n",
              "    <div class=\"colab-df-container\">\n",
              "      <div>\n",
              "<style scoped>\n",
              "    .dataframe tbody tr th:only-of-type {\n",
              "        vertical-align: middle;\n",
              "    }\n",
              "\n",
              "    .dataframe tbody tr th {\n",
              "        vertical-align: top;\n",
              "    }\n",
              "\n",
              "    .dataframe thead th {\n",
              "        text-align: right;\n",
              "    }\n",
              "</style>\n",
              "<table border=\"1\" class=\"dataframe\">\n",
              "  <thead>\n",
              "    <tr style=\"text-align: right;\">\n",
              "      <th></th>\n",
              "      <th>meal_id</th>\n",
              "      <th>category</th>\n",
              "      <th>cuisine</th>\n",
              "    </tr>\n",
              "  </thead>\n",
              "  <tbody>\n",
              "    <tr>\n",
              "      <th>0</th>\n",
              "      <td>1885</td>\n",
              "      <td>Beverages</td>\n",
              "      <td>Thai</td>\n",
              "    </tr>\n",
              "    <tr>\n",
              "      <th>1</th>\n",
              "      <td>1993</td>\n",
              "      <td>Beverages</td>\n",
              "      <td>Thai</td>\n",
              "    </tr>\n",
              "    <tr>\n",
              "      <th>2</th>\n",
              "      <td>2539</td>\n",
              "      <td>Beverages</td>\n",
              "      <td>Thai</td>\n",
              "    </tr>\n",
              "    <tr>\n",
              "      <th>3</th>\n",
              "      <td>1248</td>\n",
              "      <td>Beverages</td>\n",
              "      <td>Indian</td>\n",
              "    </tr>\n",
              "    <tr>\n",
              "      <th>4</th>\n",
              "      <td>2631</td>\n",
              "      <td>Beverages</td>\n",
              "      <td>Indian</td>\n",
              "    </tr>\n",
              "    <tr>\n",
              "      <th>46</th>\n",
              "      <td>2956</td>\n",
              "      <td>Fish</td>\n",
              "      <td>Continental</td>\n",
              "    </tr>\n",
              "    <tr>\n",
              "      <th>47</th>\n",
              "      <td>2104</td>\n",
              "      <td>Fish</td>\n",
              "      <td>Continental</td>\n",
              "    </tr>\n",
              "    <tr>\n",
              "      <th>48</th>\n",
              "      <td>2444</td>\n",
              "      <td>Seafood</td>\n",
              "      <td>Continental</td>\n",
              "    </tr>\n",
              "    <tr>\n",
              "      <th>49</th>\n",
              "      <td>2867</td>\n",
              "      <td>Seafood</td>\n",
              "      <td>Continental</td>\n",
              "    </tr>\n",
              "    <tr>\n",
              "      <th>50</th>\n",
              "      <td>1445</td>\n",
              "      <td>Seafood</td>\n",
              "      <td>Continental</td>\n",
              "    </tr>\n",
              "  </tbody>\n",
              "</table>\n",
              "</div>\n",
              "      <button class=\"colab-df-convert\" onclick=\"convertToInteractive('df-c189e8a3-4869-4b31-806a-2d4ed08bd4e7')\"\n",
              "              title=\"Convert this dataframe to an interactive table.\"\n",
              "              style=\"display:none;\">\n",
              "        \n",
              "  <svg xmlns=\"http://www.w3.org/2000/svg\" height=\"24px\"viewBox=\"0 0 24 24\"\n",
              "       width=\"24px\">\n",
              "    <path d=\"M0 0h24v24H0V0z\" fill=\"none\"/>\n",
              "    <path d=\"M18.56 5.44l.94 2.06.94-2.06 2.06-.94-2.06-.94-.94-2.06-.94 2.06-2.06.94zm-11 1L8.5 8.5l.94-2.06 2.06-.94-2.06-.94L8.5 2.5l-.94 2.06-2.06.94zm10 10l.94 2.06.94-2.06 2.06-.94-2.06-.94-.94-2.06-.94 2.06-2.06.94z\"/><path d=\"M17.41 7.96l-1.37-1.37c-.4-.4-.92-.59-1.43-.59-.52 0-1.04.2-1.43.59L10.3 9.45l-7.72 7.72c-.78.78-.78 2.05 0 2.83L4 21.41c.39.39.9.59 1.41.59.51 0 1.02-.2 1.41-.59l7.78-7.78 2.81-2.81c.8-.78.8-2.07 0-2.86zM5.41 20L4 18.59l7.72-7.72 1.47 1.35L5.41 20z\"/>\n",
              "  </svg>\n",
              "      </button>\n",
              "      \n",
              "  <style>\n",
              "    .colab-df-container {\n",
              "      display:flex;\n",
              "      flex-wrap:wrap;\n",
              "      gap: 12px;\n",
              "    }\n",
              "\n",
              "    .colab-df-convert {\n",
              "      background-color: #E8F0FE;\n",
              "      border: none;\n",
              "      border-radius: 50%;\n",
              "      cursor: pointer;\n",
              "      display: none;\n",
              "      fill: #1967D2;\n",
              "      height: 32px;\n",
              "      padding: 0 0 0 0;\n",
              "      width: 32px;\n",
              "    }\n",
              "\n",
              "    .colab-df-convert:hover {\n",
              "      background-color: #E2EBFA;\n",
              "      box-shadow: 0px 1px 2px rgba(60, 64, 67, 0.3), 0px 1px 3px 1px rgba(60, 64, 67, 0.15);\n",
              "      fill: #174EA6;\n",
              "    }\n",
              "\n",
              "    [theme=dark] .colab-df-convert {\n",
              "      background-color: #3B4455;\n",
              "      fill: #D2E3FC;\n",
              "    }\n",
              "\n",
              "    [theme=dark] .colab-df-convert:hover {\n",
              "      background-color: #434B5C;\n",
              "      box-shadow: 0px 1px 3px 1px rgba(0, 0, 0, 0.15);\n",
              "      filter: drop-shadow(0px 1px 2px rgba(0, 0, 0, 0.3));\n",
              "      fill: #FFFFFF;\n",
              "    }\n",
              "  </style>\n",
              "\n",
              "      <script>\n",
              "        const buttonEl =\n",
              "          document.querySelector('#df-c189e8a3-4869-4b31-806a-2d4ed08bd4e7 button.colab-df-convert');\n",
              "        buttonEl.style.display =\n",
              "          google.colab.kernel.accessAllowed ? 'block' : 'none';\n",
              "\n",
              "        async function convertToInteractive(key) {\n",
              "          const element = document.querySelector('#df-c189e8a3-4869-4b31-806a-2d4ed08bd4e7');\n",
              "          const dataTable =\n",
              "            await google.colab.kernel.invokeFunction('convertToInteractive',\n",
              "                                                     [key], {});\n",
              "          if (!dataTable) return;\n",
              "\n",
              "          const docLinkHtml = 'Like what you see? Visit the ' +\n",
              "            '<a target=\"_blank\" href=https://colab.research.google.com/notebooks/data_table.ipynb>data table notebook</a>'\n",
              "            + ' to learn more about interactive tables.';\n",
              "          element.innerHTML = '';\n",
              "          dataTable['output_type'] = 'display_data';\n",
              "          await google.colab.output.renderOutput(dataTable, element);\n",
              "          const docLink = document.createElement('div');\n",
              "          docLink.innerHTML = docLinkHtml;\n",
              "          element.appendChild(docLink);\n",
              "        }\n",
              "      </script>\n",
              "    </div>\n",
              "  </div>\n",
              "  "
            ],
            "text/plain": [
              "    meal_id   category      cuisine\n",
              "0      1885  Beverages         Thai\n",
              "1      1993  Beverages         Thai\n",
              "2      2539  Beverages         Thai\n",
              "3      1248  Beverages       Indian\n",
              "4      2631  Beverages       Indian\n",
              "46     2956       Fish  Continental\n",
              "47     2104       Fish  Continental\n",
              "48     2444    Seafood  Continental\n",
              "49     2867    Seafood  Continental\n",
              "50     1445    Seafood  Continental"
            ]
          },
          "metadata": {},
          "execution_count": 9
        }
      ]
    },
    {
      "cell_type": "markdown",
      "metadata": {
        "id": "-QBI_K1UUTEi"
      },
      "source": [
        "### `fulfilment_center_info`\n",
        "\n",
        "Информация о центрах выполнения, такая как площадь центра, информация о городе и т.д.\n",
        "\n",
        "- `center_id` - Unique ID for fulfillment center\n",
        "- `city_code` - Unique code for city\n",
        "- `region_code` - Unique code for region\n",
        "- `center_type` - Anonymized center type\n",
        "- `op_area` - Area of operation (in km^2)"
      ]
    },
    {
      "cell_type": "code",
      "metadata": {
        "id": "EP5MEy4rUm4O",
        "colab": {
          "base_uri": "https://localhost:8080/",
          "height": 424
        },
        "outputId": "3372c99a-ab8f-467c-e4b4-317920897f10"
      },
      "source": [
        "fulfilment_center_info"
      ],
      "execution_count": null,
      "outputs": [
        {
          "output_type": "execute_result",
          "data": {
            "text/html": [
              "\n",
              "  <div id=\"df-65ce658b-ff28-4bdd-b92e-10110c0cce6c\">\n",
              "    <div class=\"colab-df-container\">\n",
              "      <div>\n",
              "<style scoped>\n",
              "    .dataframe tbody tr th:only-of-type {\n",
              "        vertical-align: middle;\n",
              "    }\n",
              "\n",
              "    .dataframe tbody tr th {\n",
              "        vertical-align: top;\n",
              "    }\n",
              "\n",
              "    .dataframe thead th {\n",
              "        text-align: right;\n",
              "    }\n",
              "</style>\n",
              "<table border=\"1\" class=\"dataframe\">\n",
              "  <thead>\n",
              "    <tr style=\"text-align: right;\">\n",
              "      <th></th>\n",
              "      <th>center_id</th>\n",
              "      <th>city_code</th>\n",
              "      <th>region_code</th>\n",
              "      <th>center_type</th>\n",
              "      <th>op_area</th>\n",
              "    </tr>\n",
              "  </thead>\n",
              "  <tbody>\n",
              "    <tr>\n",
              "      <th>0</th>\n",
              "      <td>11</td>\n",
              "      <td>679</td>\n",
              "      <td>56</td>\n",
              "      <td>TYPE_A</td>\n",
              "      <td>3.7</td>\n",
              "    </tr>\n",
              "    <tr>\n",
              "      <th>1</th>\n",
              "      <td>13</td>\n",
              "      <td>590</td>\n",
              "      <td>56</td>\n",
              "      <td>TYPE_B</td>\n",
              "      <td>6.7</td>\n",
              "    </tr>\n",
              "    <tr>\n",
              "      <th>2</th>\n",
              "      <td>124</td>\n",
              "      <td>590</td>\n",
              "      <td>56</td>\n",
              "      <td>TYPE_C</td>\n",
              "      <td>4.0</td>\n",
              "    </tr>\n",
              "    <tr>\n",
              "      <th>3</th>\n",
              "      <td>66</td>\n",
              "      <td>648</td>\n",
              "      <td>34</td>\n",
              "      <td>TYPE_A</td>\n",
              "      <td>4.1</td>\n",
              "    </tr>\n",
              "    <tr>\n",
              "      <th>4</th>\n",
              "      <td>94</td>\n",
              "      <td>632</td>\n",
              "      <td>34</td>\n",
              "      <td>TYPE_C</td>\n",
              "      <td>3.6</td>\n",
              "    </tr>\n",
              "    <tr>\n",
              "      <th>...</th>\n",
              "      <td>...</td>\n",
              "      <td>...</td>\n",
              "      <td>...</td>\n",
              "      <td>...</td>\n",
              "      <td>...</td>\n",
              "    </tr>\n",
              "    <tr>\n",
              "      <th>72</th>\n",
              "      <td>53</td>\n",
              "      <td>590</td>\n",
              "      <td>56</td>\n",
              "      <td>TYPE_A</td>\n",
              "      <td>3.8</td>\n",
              "    </tr>\n",
              "    <tr>\n",
              "      <th>73</th>\n",
              "      <td>30</td>\n",
              "      <td>604</td>\n",
              "      <td>56</td>\n",
              "      <td>TYPE_A</td>\n",
              "      <td>3.5</td>\n",
              "    </tr>\n",
              "    <tr>\n",
              "      <th>74</th>\n",
              "      <td>76</td>\n",
              "      <td>614</td>\n",
              "      <td>85</td>\n",
              "      <td>TYPE_A</td>\n",
              "      <td>3.0</td>\n",
              "    </tr>\n",
              "    <tr>\n",
              "      <th>75</th>\n",
              "      <td>68</td>\n",
              "      <td>676</td>\n",
              "      <td>34</td>\n",
              "      <td>TYPE_B</td>\n",
              "      <td>4.1</td>\n",
              "    </tr>\n",
              "    <tr>\n",
              "      <th>76</th>\n",
              "      <td>51</td>\n",
              "      <td>638</td>\n",
              "      <td>56</td>\n",
              "      <td>TYPE_A</td>\n",
              "      <td>7.0</td>\n",
              "    </tr>\n",
              "  </tbody>\n",
              "</table>\n",
              "<p>77 rows × 5 columns</p>\n",
              "</div>\n",
              "      <button class=\"colab-df-convert\" onclick=\"convertToInteractive('df-65ce658b-ff28-4bdd-b92e-10110c0cce6c')\"\n",
              "              title=\"Convert this dataframe to an interactive table.\"\n",
              "              style=\"display:none;\">\n",
              "        \n",
              "  <svg xmlns=\"http://www.w3.org/2000/svg\" height=\"24px\"viewBox=\"0 0 24 24\"\n",
              "       width=\"24px\">\n",
              "    <path d=\"M0 0h24v24H0V0z\" fill=\"none\"/>\n",
              "    <path d=\"M18.56 5.44l.94 2.06.94-2.06 2.06-.94-2.06-.94-.94-2.06-.94 2.06-2.06.94zm-11 1L8.5 8.5l.94-2.06 2.06-.94-2.06-.94L8.5 2.5l-.94 2.06-2.06.94zm10 10l.94 2.06.94-2.06 2.06-.94-2.06-.94-.94-2.06-.94 2.06-2.06.94z\"/><path d=\"M17.41 7.96l-1.37-1.37c-.4-.4-.92-.59-1.43-.59-.52 0-1.04.2-1.43.59L10.3 9.45l-7.72 7.72c-.78.78-.78 2.05 0 2.83L4 21.41c.39.39.9.59 1.41.59.51 0 1.02-.2 1.41-.59l7.78-7.78 2.81-2.81c.8-.78.8-2.07 0-2.86zM5.41 20L4 18.59l7.72-7.72 1.47 1.35L5.41 20z\"/>\n",
              "  </svg>\n",
              "      </button>\n",
              "      \n",
              "  <style>\n",
              "    .colab-df-container {\n",
              "      display:flex;\n",
              "      flex-wrap:wrap;\n",
              "      gap: 12px;\n",
              "    }\n",
              "\n",
              "    .colab-df-convert {\n",
              "      background-color: #E8F0FE;\n",
              "      border: none;\n",
              "      border-radius: 50%;\n",
              "      cursor: pointer;\n",
              "      display: none;\n",
              "      fill: #1967D2;\n",
              "      height: 32px;\n",
              "      padding: 0 0 0 0;\n",
              "      width: 32px;\n",
              "    }\n",
              "\n",
              "    .colab-df-convert:hover {\n",
              "      background-color: #E2EBFA;\n",
              "      box-shadow: 0px 1px 2px rgba(60, 64, 67, 0.3), 0px 1px 3px 1px rgba(60, 64, 67, 0.15);\n",
              "      fill: #174EA6;\n",
              "    }\n",
              "\n",
              "    [theme=dark] .colab-df-convert {\n",
              "      background-color: #3B4455;\n",
              "      fill: #D2E3FC;\n",
              "    }\n",
              "\n",
              "    [theme=dark] .colab-df-convert:hover {\n",
              "      background-color: #434B5C;\n",
              "      box-shadow: 0px 1px 3px 1px rgba(0, 0, 0, 0.15);\n",
              "      filter: drop-shadow(0px 1px 2px rgba(0, 0, 0, 0.3));\n",
              "      fill: #FFFFFF;\n",
              "    }\n",
              "  </style>\n",
              "\n",
              "      <script>\n",
              "        const buttonEl =\n",
              "          document.querySelector('#df-65ce658b-ff28-4bdd-b92e-10110c0cce6c button.colab-df-convert');\n",
              "        buttonEl.style.display =\n",
              "          google.colab.kernel.accessAllowed ? 'block' : 'none';\n",
              "\n",
              "        async function convertToInteractive(key) {\n",
              "          const element = document.querySelector('#df-65ce658b-ff28-4bdd-b92e-10110c0cce6c');\n",
              "          const dataTable =\n",
              "            await google.colab.kernel.invokeFunction('convertToInteractive',\n",
              "                                                     [key], {});\n",
              "          if (!dataTable) return;\n",
              "\n",
              "          const docLinkHtml = 'Like what you see? Visit the ' +\n",
              "            '<a target=\"_blank\" href=https://colab.research.google.com/notebooks/data_table.ipynb>data table notebook</a>'\n",
              "            + ' to learn more about interactive tables.';\n",
              "          element.innerHTML = '';\n",
              "          dataTable['output_type'] = 'display_data';\n",
              "          await google.colab.output.renderOutput(dataTable, element);\n",
              "          const docLink = document.createElement('div');\n",
              "          docLink.innerHTML = docLinkHtml;\n",
              "          element.appendChild(docLink);\n",
              "        }\n",
              "      </script>\n",
              "    </div>\n",
              "  </div>\n",
              "  "
            ],
            "text/plain": [
              "    center_id  city_code  region_code center_type  op_area\n",
              "0          11        679           56      TYPE_A      3.7\n",
              "1          13        590           56      TYPE_B      6.7\n",
              "2         124        590           56      TYPE_C      4.0\n",
              "3          66        648           34      TYPE_A      4.1\n",
              "4          94        632           34      TYPE_C      3.6\n",
              "..        ...        ...          ...         ...      ...\n",
              "72         53        590           56      TYPE_A      3.8\n",
              "73         30        604           56      TYPE_A      3.5\n",
              "74         76        614           85      TYPE_A      3.0\n",
              "75         68        676           34      TYPE_B      4.1\n",
              "76         51        638           56      TYPE_A      7.0\n",
              "\n",
              "[77 rows x 5 columns]"
            ]
          },
          "metadata": {},
          "execution_count": 10
        }
      ]
    },
    {
      "cell_type": "markdown",
      "metadata": {
        "id": "0FCbX0h8YAAl"
      },
      "source": [
        "# Part I: Preparation"
      ]
    },
    {
      "cell_type": "markdown",
      "metadata": {
        "id": "5ymYlGCEsU3G"
      },
      "source": [
        "Объединим данные со всех таблиц в один датафрейм `all_data`"
      ]
    },
    {
      "cell_type": "code",
      "metadata": {
        "id": "ZbS7Bx7zanpV",
        "colab": {
          "base_uri": "https://localhost:8080/",
          "height": 894
        },
        "outputId": "ba52bf45-fa0b-4613-ecf8-a50cb2abc32b"
      },
      "source": [
        "train = train.merge(meal_info, on=\"meal_id\", how=\"left\")\\\n",
        "                .merge(fulfilment_center_info, on=\"center_id\", how=\"left\")\n",
        "test = test.merge(meal_info, on=\"meal_id\", how=\"left\")\\\n",
        "           .merge(fulfilment_center_info, on=\"center_id\", how=\"left\")\n",
        "\n",
        "display(train, test)"
      ],
      "execution_count": null,
      "outputs": [
        {
          "output_type": "display_data",
          "data": {
            "text/html": [
              "\n",
              "  <div id=\"df-4f95be5b-c0f9-4069-b0ea-2942329fd5a4\">\n",
              "    <div class=\"colab-df-container\">\n",
              "      <div>\n",
              "<style scoped>\n",
              "    .dataframe tbody tr th:only-of-type {\n",
              "        vertical-align: middle;\n",
              "    }\n",
              "\n",
              "    .dataframe tbody tr th {\n",
              "        vertical-align: top;\n",
              "    }\n",
              "\n",
              "    .dataframe thead th {\n",
              "        text-align: right;\n",
              "    }\n",
              "</style>\n",
              "<table border=\"1\" class=\"dataframe\">\n",
              "  <thead>\n",
              "    <tr style=\"text-align: right;\">\n",
              "      <th></th>\n",
              "      <th>id</th>\n",
              "      <th>week</th>\n",
              "      <th>center_id</th>\n",
              "      <th>meal_id</th>\n",
              "      <th>checkout_price</th>\n",
              "      <th>base_price</th>\n",
              "      <th>emailer_for_promotion</th>\n",
              "      <th>homepage_featured</th>\n",
              "      <th>num_orders</th>\n",
              "      <th>category</th>\n",
              "      <th>cuisine</th>\n",
              "      <th>city_code</th>\n",
              "      <th>region_code</th>\n",
              "      <th>center_type</th>\n",
              "      <th>op_area</th>\n",
              "    </tr>\n",
              "  </thead>\n",
              "  <tbody>\n",
              "    <tr>\n",
              "      <th>0</th>\n",
              "      <td>1379560</td>\n",
              "      <td>1</td>\n",
              "      <td>55</td>\n",
              "      <td>1885</td>\n",
              "      <td>136.83</td>\n",
              "      <td>152.29</td>\n",
              "      <td>0</td>\n",
              "      <td>0</td>\n",
              "      <td>177</td>\n",
              "      <td>Beverages</td>\n",
              "      <td>Thai</td>\n",
              "      <td>647</td>\n",
              "      <td>56</td>\n",
              "      <td>TYPE_C</td>\n",
              "      <td>2.0</td>\n",
              "    </tr>\n",
              "    <tr>\n",
              "      <th>1</th>\n",
              "      <td>1466964</td>\n",
              "      <td>1</td>\n",
              "      <td>55</td>\n",
              "      <td>1993</td>\n",
              "      <td>136.83</td>\n",
              "      <td>135.83</td>\n",
              "      <td>0</td>\n",
              "      <td>0</td>\n",
              "      <td>270</td>\n",
              "      <td>Beverages</td>\n",
              "      <td>Thai</td>\n",
              "      <td>647</td>\n",
              "      <td>56</td>\n",
              "      <td>TYPE_C</td>\n",
              "      <td>2.0</td>\n",
              "    </tr>\n",
              "    <tr>\n",
              "      <th>2</th>\n",
              "      <td>1346989</td>\n",
              "      <td>1</td>\n",
              "      <td>55</td>\n",
              "      <td>2539</td>\n",
              "      <td>134.86</td>\n",
              "      <td>135.86</td>\n",
              "      <td>0</td>\n",
              "      <td>0</td>\n",
              "      <td>189</td>\n",
              "      <td>Beverages</td>\n",
              "      <td>Thai</td>\n",
              "      <td>647</td>\n",
              "      <td>56</td>\n",
              "      <td>TYPE_C</td>\n",
              "      <td>2.0</td>\n",
              "    </tr>\n",
              "    <tr>\n",
              "      <th>3</th>\n",
              "      <td>1338232</td>\n",
              "      <td>1</td>\n",
              "      <td>55</td>\n",
              "      <td>2139</td>\n",
              "      <td>339.50</td>\n",
              "      <td>437.53</td>\n",
              "      <td>0</td>\n",
              "      <td>0</td>\n",
              "      <td>54</td>\n",
              "      <td>Beverages</td>\n",
              "      <td>Indian</td>\n",
              "      <td>647</td>\n",
              "      <td>56</td>\n",
              "      <td>TYPE_C</td>\n",
              "      <td>2.0</td>\n",
              "    </tr>\n",
              "    <tr>\n",
              "      <th>4</th>\n",
              "      <td>1448490</td>\n",
              "      <td>1</td>\n",
              "      <td>55</td>\n",
              "      <td>2631</td>\n",
              "      <td>243.50</td>\n",
              "      <td>242.50</td>\n",
              "      <td>0</td>\n",
              "      <td>0</td>\n",
              "      <td>40</td>\n",
              "      <td>Beverages</td>\n",
              "      <td>Indian</td>\n",
              "      <td>647</td>\n",
              "      <td>56</td>\n",
              "      <td>TYPE_C</td>\n",
              "      <td>2.0</td>\n",
              "    </tr>\n",
              "    <tr>\n",
              "      <th>...</th>\n",
              "      <td>...</td>\n",
              "      <td>...</td>\n",
              "      <td>...</td>\n",
              "      <td>...</td>\n",
              "      <td>...</td>\n",
              "      <td>...</td>\n",
              "      <td>...</td>\n",
              "      <td>...</td>\n",
              "      <td>...</td>\n",
              "      <td>...</td>\n",
              "      <td>...</td>\n",
              "      <td>...</td>\n",
              "      <td>...</td>\n",
              "      <td>...</td>\n",
              "      <td>...</td>\n",
              "    </tr>\n",
              "    <tr>\n",
              "      <th>456543</th>\n",
              "      <td>1271326</td>\n",
              "      <td>145</td>\n",
              "      <td>61</td>\n",
              "      <td>1543</td>\n",
              "      <td>484.09</td>\n",
              "      <td>484.09</td>\n",
              "      <td>0</td>\n",
              "      <td>0</td>\n",
              "      <td>68</td>\n",
              "      <td>Desert</td>\n",
              "      <td>Indian</td>\n",
              "      <td>473</td>\n",
              "      <td>77</td>\n",
              "      <td>TYPE_A</td>\n",
              "      <td>4.5</td>\n",
              "    </tr>\n",
              "    <tr>\n",
              "      <th>456544</th>\n",
              "      <td>1062036</td>\n",
              "      <td>145</td>\n",
              "      <td>61</td>\n",
              "      <td>2304</td>\n",
              "      <td>482.09</td>\n",
              "      <td>482.09</td>\n",
              "      <td>0</td>\n",
              "      <td>0</td>\n",
              "      <td>42</td>\n",
              "      <td>Desert</td>\n",
              "      <td>Indian</td>\n",
              "      <td>473</td>\n",
              "      <td>77</td>\n",
              "      <td>TYPE_A</td>\n",
              "      <td>4.5</td>\n",
              "    </tr>\n",
              "    <tr>\n",
              "      <th>456545</th>\n",
              "      <td>1110849</td>\n",
              "      <td>145</td>\n",
              "      <td>61</td>\n",
              "      <td>2664</td>\n",
              "      <td>237.68</td>\n",
              "      <td>321.07</td>\n",
              "      <td>0</td>\n",
              "      <td>0</td>\n",
              "      <td>501</td>\n",
              "      <td>Salad</td>\n",
              "      <td>Italian</td>\n",
              "      <td>473</td>\n",
              "      <td>77</td>\n",
              "      <td>TYPE_A</td>\n",
              "      <td>4.5</td>\n",
              "    </tr>\n",
              "    <tr>\n",
              "      <th>456546</th>\n",
              "      <td>1147725</td>\n",
              "      <td>145</td>\n",
              "      <td>61</td>\n",
              "      <td>2569</td>\n",
              "      <td>243.50</td>\n",
              "      <td>313.34</td>\n",
              "      <td>0</td>\n",
              "      <td>0</td>\n",
              "      <td>729</td>\n",
              "      <td>Salad</td>\n",
              "      <td>Italian</td>\n",
              "      <td>473</td>\n",
              "      <td>77</td>\n",
              "      <td>TYPE_A</td>\n",
              "      <td>4.5</td>\n",
              "    </tr>\n",
              "    <tr>\n",
              "      <th>456547</th>\n",
              "      <td>1361984</td>\n",
              "      <td>145</td>\n",
              "      <td>61</td>\n",
              "      <td>2490</td>\n",
              "      <td>292.03</td>\n",
              "      <td>290.03</td>\n",
              "      <td>0</td>\n",
              "      <td>0</td>\n",
              "      <td>162</td>\n",
              "      <td>Salad</td>\n",
              "      <td>Italian</td>\n",
              "      <td>473</td>\n",
              "      <td>77</td>\n",
              "      <td>TYPE_A</td>\n",
              "      <td>4.5</td>\n",
              "    </tr>\n",
              "  </tbody>\n",
              "</table>\n",
              "<p>456548 rows × 15 columns</p>\n",
              "</div>\n",
              "      <button class=\"colab-df-convert\" onclick=\"convertToInteractive('df-4f95be5b-c0f9-4069-b0ea-2942329fd5a4')\"\n",
              "              title=\"Convert this dataframe to an interactive table.\"\n",
              "              style=\"display:none;\">\n",
              "        \n",
              "  <svg xmlns=\"http://www.w3.org/2000/svg\" height=\"24px\"viewBox=\"0 0 24 24\"\n",
              "       width=\"24px\">\n",
              "    <path d=\"M0 0h24v24H0V0z\" fill=\"none\"/>\n",
              "    <path d=\"M18.56 5.44l.94 2.06.94-2.06 2.06-.94-2.06-.94-.94-2.06-.94 2.06-2.06.94zm-11 1L8.5 8.5l.94-2.06 2.06-.94-2.06-.94L8.5 2.5l-.94 2.06-2.06.94zm10 10l.94 2.06.94-2.06 2.06-.94-2.06-.94-.94-2.06-.94 2.06-2.06.94z\"/><path d=\"M17.41 7.96l-1.37-1.37c-.4-.4-.92-.59-1.43-.59-.52 0-1.04.2-1.43.59L10.3 9.45l-7.72 7.72c-.78.78-.78 2.05 0 2.83L4 21.41c.39.39.9.59 1.41.59.51 0 1.02-.2 1.41-.59l7.78-7.78 2.81-2.81c.8-.78.8-2.07 0-2.86zM5.41 20L4 18.59l7.72-7.72 1.47 1.35L5.41 20z\"/>\n",
              "  </svg>\n",
              "      </button>\n",
              "      \n",
              "  <style>\n",
              "    .colab-df-container {\n",
              "      display:flex;\n",
              "      flex-wrap:wrap;\n",
              "      gap: 12px;\n",
              "    }\n",
              "\n",
              "    .colab-df-convert {\n",
              "      background-color: #E8F0FE;\n",
              "      border: none;\n",
              "      border-radius: 50%;\n",
              "      cursor: pointer;\n",
              "      display: none;\n",
              "      fill: #1967D2;\n",
              "      height: 32px;\n",
              "      padding: 0 0 0 0;\n",
              "      width: 32px;\n",
              "    }\n",
              "\n",
              "    .colab-df-convert:hover {\n",
              "      background-color: #E2EBFA;\n",
              "      box-shadow: 0px 1px 2px rgba(60, 64, 67, 0.3), 0px 1px 3px 1px rgba(60, 64, 67, 0.15);\n",
              "      fill: #174EA6;\n",
              "    }\n",
              "\n",
              "    [theme=dark] .colab-df-convert {\n",
              "      background-color: #3B4455;\n",
              "      fill: #D2E3FC;\n",
              "    }\n",
              "\n",
              "    [theme=dark] .colab-df-convert:hover {\n",
              "      background-color: #434B5C;\n",
              "      box-shadow: 0px 1px 3px 1px rgba(0, 0, 0, 0.15);\n",
              "      filter: drop-shadow(0px 1px 2px rgba(0, 0, 0, 0.3));\n",
              "      fill: #FFFFFF;\n",
              "    }\n",
              "  </style>\n",
              "\n",
              "      <script>\n",
              "        const buttonEl =\n",
              "          document.querySelector('#df-4f95be5b-c0f9-4069-b0ea-2942329fd5a4 button.colab-df-convert');\n",
              "        buttonEl.style.display =\n",
              "          google.colab.kernel.accessAllowed ? 'block' : 'none';\n",
              "\n",
              "        async function convertToInteractive(key) {\n",
              "          const element = document.querySelector('#df-4f95be5b-c0f9-4069-b0ea-2942329fd5a4');\n",
              "          const dataTable =\n",
              "            await google.colab.kernel.invokeFunction('convertToInteractive',\n",
              "                                                     [key], {});\n",
              "          if (!dataTable) return;\n",
              "\n",
              "          const docLinkHtml = 'Like what you see? Visit the ' +\n",
              "            '<a target=\"_blank\" href=https://colab.research.google.com/notebooks/data_table.ipynb>data table notebook</a>'\n",
              "            + ' to learn more about interactive tables.';\n",
              "          element.innerHTML = '';\n",
              "          dataTable['output_type'] = 'display_data';\n",
              "          await google.colab.output.renderOutput(dataTable, element);\n",
              "          const docLink = document.createElement('div');\n",
              "          docLink.innerHTML = docLinkHtml;\n",
              "          element.appendChild(docLink);\n",
              "        }\n",
              "      </script>\n",
              "    </div>\n",
              "  </div>\n",
              "  "
            ],
            "text/plain": [
              "             id  week  center_id  meal_id  checkout_price  base_price  \\\n",
              "0       1379560     1         55     1885          136.83      152.29   \n",
              "1       1466964     1         55     1993          136.83      135.83   \n",
              "2       1346989     1         55     2539          134.86      135.86   \n",
              "3       1338232     1         55     2139          339.50      437.53   \n",
              "4       1448490     1         55     2631          243.50      242.50   \n",
              "...         ...   ...        ...      ...             ...         ...   \n",
              "456543  1271326   145         61     1543          484.09      484.09   \n",
              "456544  1062036   145         61     2304          482.09      482.09   \n",
              "456545  1110849   145         61     2664          237.68      321.07   \n",
              "456546  1147725   145         61     2569          243.50      313.34   \n",
              "456547  1361984   145         61     2490          292.03      290.03   \n",
              "\n",
              "        emailer_for_promotion  homepage_featured  num_orders   category  \\\n",
              "0                           0                  0         177  Beverages   \n",
              "1                           0                  0         270  Beverages   \n",
              "2                           0                  0         189  Beverages   \n",
              "3                           0                  0          54  Beverages   \n",
              "4                           0                  0          40  Beverages   \n",
              "...                       ...                ...         ...        ...   \n",
              "456543                      0                  0          68     Desert   \n",
              "456544                      0                  0          42     Desert   \n",
              "456545                      0                  0         501      Salad   \n",
              "456546                      0                  0         729      Salad   \n",
              "456547                      0                  0         162      Salad   \n",
              "\n",
              "        cuisine  city_code  region_code center_type  op_area  \n",
              "0          Thai        647           56      TYPE_C      2.0  \n",
              "1          Thai        647           56      TYPE_C      2.0  \n",
              "2          Thai        647           56      TYPE_C      2.0  \n",
              "3        Indian        647           56      TYPE_C      2.0  \n",
              "4        Indian        647           56      TYPE_C      2.0  \n",
              "...         ...        ...          ...         ...      ...  \n",
              "456543   Indian        473           77      TYPE_A      4.5  \n",
              "456544   Indian        473           77      TYPE_A      4.5  \n",
              "456545  Italian        473           77      TYPE_A      4.5  \n",
              "456546  Italian        473           77      TYPE_A      4.5  \n",
              "456547  Italian        473           77      TYPE_A      4.5  \n",
              "\n",
              "[456548 rows x 15 columns]"
            ]
          },
          "metadata": {}
        },
        {
          "output_type": "display_data",
          "data": {
            "text/html": [
              "\n",
              "  <div id=\"df-f3aa58a8-9b15-4893-8d0c-914c828353d5\">\n",
              "    <div class=\"colab-df-container\">\n",
              "      <div>\n",
              "<style scoped>\n",
              "    .dataframe tbody tr th:only-of-type {\n",
              "        vertical-align: middle;\n",
              "    }\n",
              "\n",
              "    .dataframe tbody tr th {\n",
              "        vertical-align: top;\n",
              "    }\n",
              "\n",
              "    .dataframe thead th {\n",
              "        text-align: right;\n",
              "    }\n",
              "</style>\n",
              "<table border=\"1\" class=\"dataframe\">\n",
              "  <thead>\n",
              "    <tr style=\"text-align: right;\">\n",
              "      <th></th>\n",
              "      <th>id</th>\n",
              "      <th>week</th>\n",
              "      <th>center_id</th>\n",
              "      <th>meal_id</th>\n",
              "      <th>checkout_price</th>\n",
              "      <th>base_price</th>\n",
              "      <th>emailer_for_promotion</th>\n",
              "      <th>homepage_featured</th>\n",
              "      <th>category</th>\n",
              "      <th>cuisine</th>\n",
              "      <th>city_code</th>\n",
              "      <th>region_code</th>\n",
              "      <th>center_type</th>\n",
              "      <th>op_area</th>\n",
              "    </tr>\n",
              "  </thead>\n",
              "  <tbody>\n",
              "    <tr>\n",
              "      <th>0</th>\n",
              "      <td>1028232</td>\n",
              "      <td>146</td>\n",
              "      <td>55</td>\n",
              "      <td>1885</td>\n",
              "      <td>158.11</td>\n",
              "      <td>159.11</td>\n",
              "      <td>0</td>\n",
              "      <td>0</td>\n",
              "      <td>Beverages</td>\n",
              "      <td>Thai</td>\n",
              "      <td>647</td>\n",
              "      <td>56</td>\n",
              "      <td>TYPE_C</td>\n",
              "      <td>2.0</td>\n",
              "    </tr>\n",
              "    <tr>\n",
              "      <th>1</th>\n",
              "      <td>1127204</td>\n",
              "      <td>146</td>\n",
              "      <td>55</td>\n",
              "      <td>1993</td>\n",
              "      <td>160.11</td>\n",
              "      <td>159.11</td>\n",
              "      <td>0</td>\n",
              "      <td>0</td>\n",
              "      <td>Beverages</td>\n",
              "      <td>Thai</td>\n",
              "      <td>647</td>\n",
              "      <td>56</td>\n",
              "      <td>TYPE_C</td>\n",
              "      <td>2.0</td>\n",
              "    </tr>\n",
              "    <tr>\n",
              "      <th>2</th>\n",
              "      <td>1212707</td>\n",
              "      <td>146</td>\n",
              "      <td>55</td>\n",
              "      <td>2539</td>\n",
              "      <td>157.14</td>\n",
              "      <td>159.14</td>\n",
              "      <td>0</td>\n",
              "      <td>0</td>\n",
              "      <td>Beverages</td>\n",
              "      <td>Thai</td>\n",
              "      <td>647</td>\n",
              "      <td>56</td>\n",
              "      <td>TYPE_C</td>\n",
              "      <td>2.0</td>\n",
              "    </tr>\n",
              "    <tr>\n",
              "      <th>3</th>\n",
              "      <td>1082698</td>\n",
              "      <td>146</td>\n",
              "      <td>55</td>\n",
              "      <td>2631</td>\n",
              "      <td>162.02</td>\n",
              "      <td>162.02</td>\n",
              "      <td>0</td>\n",
              "      <td>0</td>\n",
              "      <td>Beverages</td>\n",
              "      <td>Indian</td>\n",
              "      <td>647</td>\n",
              "      <td>56</td>\n",
              "      <td>TYPE_C</td>\n",
              "      <td>2.0</td>\n",
              "    </tr>\n",
              "    <tr>\n",
              "      <th>4</th>\n",
              "      <td>1400926</td>\n",
              "      <td>146</td>\n",
              "      <td>55</td>\n",
              "      <td>1248</td>\n",
              "      <td>163.93</td>\n",
              "      <td>163.93</td>\n",
              "      <td>0</td>\n",
              "      <td>0</td>\n",
              "      <td>Beverages</td>\n",
              "      <td>Indian</td>\n",
              "      <td>647</td>\n",
              "      <td>56</td>\n",
              "      <td>TYPE_C</td>\n",
              "      <td>2.0</td>\n",
              "    </tr>\n",
              "    <tr>\n",
              "      <th>...</th>\n",
              "      <td>...</td>\n",
              "      <td>...</td>\n",
              "      <td>...</td>\n",
              "      <td>...</td>\n",
              "      <td>...</td>\n",
              "      <td>...</td>\n",
              "      <td>...</td>\n",
              "      <td>...</td>\n",
              "      <td>...</td>\n",
              "      <td>...</td>\n",
              "      <td>...</td>\n",
              "      <td>...</td>\n",
              "      <td>...</td>\n",
              "      <td>...</td>\n",
              "    </tr>\n",
              "    <tr>\n",
              "      <th>32568</th>\n",
              "      <td>1250239</td>\n",
              "      <td>155</td>\n",
              "      <td>61</td>\n",
              "      <td>1543</td>\n",
              "      <td>482.09</td>\n",
              "      <td>484.09</td>\n",
              "      <td>0</td>\n",
              "      <td>0</td>\n",
              "      <td>Desert</td>\n",
              "      <td>Indian</td>\n",
              "      <td>473</td>\n",
              "      <td>77</td>\n",
              "      <td>TYPE_A</td>\n",
              "      <td>4.5</td>\n",
              "    </tr>\n",
              "    <tr>\n",
              "      <th>32569</th>\n",
              "      <td>1039516</td>\n",
              "      <td>155</td>\n",
              "      <td>61</td>\n",
              "      <td>2304</td>\n",
              "      <td>483.09</td>\n",
              "      <td>483.09</td>\n",
              "      <td>0</td>\n",
              "      <td>0</td>\n",
              "      <td>Desert</td>\n",
              "      <td>Indian</td>\n",
              "      <td>473</td>\n",
              "      <td>77</td>\n",
              "      <td>TYPE_A</td>\n",
              "      <td>4.5</td>\n",
              "    </tr>\n",
              "    <tr>\n",
              "      <th>32570</th>\n",
              "      <td>1158107</td>\n",
              "      <td>155</td>\n",
              "      <td>61</td>\n",
              "      <td>2664</td>\n",
              "      <td>322.07</td>\n",
              "      <td>323.07</td>\n",
              "      <td>0</td>\n",
              "      <td>0</td>\n",
              "      <td>Salad</td>\n",
              "      <td>Italian</td>\n",
              "      <td>473</td>\n",
              "      <td>77</td>\n",
              "      <td>TYPE_A</td>\n",
              "      <td>4.5</td>\n",
              "    </tr>\n",
              "    <tr>\n",
              "      <th>32571</th>\n",
              "      <td>1444235</td>\n",
              "      <td>155</td>\n",
              "      <td>61</td>\n",
              "      <td>2569</td>\n",
              "      <td>322.07</td>\n",
              "      <td>323.07</td>\n",
              "      <td>0</td>\n",
              "      <td>0</td>\n",
              "      <td>Salad</td>\n",
              "      <td>Italian</td>\n",
              "      <td>473</td>\n",
              "      <td>77</td>\n",
              "      <td>TYPE_A</td>\n",
              "      <td>4.5</td>\n",
              "    </tr>\n",
              "    <tr>\n",
              "      <th>32572</th>\n",
              "      <td>1291286</td>\n",
              "      <td>155</td>\n",
              "      <td>61</td>\n",
              "      <td>2490</td>\n",
              "      <td>276.45</td>\n",
              "      <td>276.45</td>\n",
              "      <td>0</td>\n",
              "      <td>0</td>\n",
              "      <td>Salad</td>\n",
              "      <td>Italian</td>\n",
              "      <td>473</td>\n",
              "      <td>77</td>\n",
              "      <td>TYPE_A</td>\n",
              "      <td>4.5</td>\n",
              "    </tr>\n",
              "  </tbody>\n",
              "</table>\n",
              "<p>32573 rows × 14 columns</p>\n",
              "</div>\n",
              "      <button class=\"colab-df-convert\" onclick=\"convertToInteractive('df-f3aa58a8-9b15-4893-8d0c-914c828353d5')\"\n",
              "              title=\"Convert this dataframe to an interactive table.\"\n",
              "              style=\"display:none;\">\n",
              "        \n",
              "  <svg xmlns=\"http://www.w3.org/2000/svg\" height=\"24px\"viewBox=\"0 0 24 24\"\n",
              "       width=\"24px\">\n",
              "    <path d=\"M0 0h24v24H0V0z\" fill=\"none\"/>\n",
              "    <path d=\"M18.56 5.44l.94 2.06.94-2.06 2.06-.94-2.06-.94-.94-2.06-.94 2.06-2.06.94zm-11 1L8.5 8.5l.94-2.06 2.06-.94-2.06-.94L8.5 2.5l-.94 2.06-2.06.94zm10 10l.94 2.06.94-2.06 2.06-.94-2.06-.94-.94-2.06-.94 2.06-2.06.94z\"/><path d=\"M17.41 7.96l-1.37-1.37c-.4-.4-.92-.59-1.43-.59-.52 0-1.04.2-1.43.59L10.3 9.45l-7.72 7.72c-.78.78-.78 2.05 0 2.83L4 21.41c.39.39.9.59 1.41.59.51 0 1.02-.2 1.41-.59l7.78-7.78 2.81-2.81c.8-.78.8-2.07 0-2.86zM5.41 20L4 18.59l7.72-7.72 1.47 1.35L5.41 20z\"/>\n",
              "  </svg>\n",
              "      </button>\n",
              "      \n",
              "  <style>\n",
              "    .colab-df-container {\n",
              "      display:flex;\n",
              "      flex-wrap:wrap;\n",
              "      gap: 12px;\n",
              "    }\n",
              "\n",
              "    .colab-df-convert {\n",
              "      background-color: #E8F0FE;\n",
              "      border: none;\n",
              "      border-radius: 50%;\n",
              "      cursor: pointer;\n",
              "      display: none;\n",
              "      fill: #1967D2;\n",
              "      height: 32px;\n",
              "      padding: 0 0 0 0;\n",
              "      width: 32px;\n",
              "    }\n",
              "\n",
              "    .colab-df-convert:hover {\n",
              "      background-color: #E2EBFA;\n",
              "      box-shadow: 0px 1px 2px rgba(60, 64, 67, 0.3), 0px 1px 3px 1px rgba(60, 64, 67, 0.15);\n",
              "      fill: #174EA6;\n",
              "    }\n",
              "\n",
              "    [theme=dark] .colab-df-convert {\n",
              "      background-color: #3B4455;\n",
              "      fill: #D2E3FC;\n",
              "    }\n",
              "\n",
              "    [theme=dark] .colab-df-convert:hover {\n",
              "      background-color: #434B5C;\n",
              "      box-shadow: 0px 1px 3px 1px rgba(0, 0, 0, 0.15);\n",
              "      filter: drop-shadow(0px 1px 2px rgba(0, 0, 0, 0.3));\n",
              "      fill: #FFFFFF;\n",
              "    }\n",
              "  </style>\n",
              "\n",
              "      <script>\n",
              "        const buttonEl =\n",
              "          document.querySelector('#df-f3aa58a8-9b15-4893-8d0c-914c828353d5 button.colab-df-convert');\n",
              "        buttonEl.style.display =\n",
              "          google.colab.kernel.accessAllowed ? 'block' : 'none';\n",
              "\n",
              "        async function convertToInteractive(key) {\n",
              "          const element = document.querySelector('#df-f3aa58a8-9b15-4893-8d0c-914c828353d5');\n",
              "          const dataTable =\n",
              "            await google.colab.kernel.invokeFunction('convertToInteractive',\n",
              "                                                     [key], {});\n",
              "          if (!dataTable) return;\n",
              "\n",
              "          const docLinkHtml = 'Like what you see? Visit the ' +\n",
              "            '<a target=\"_blank\" href=https://colab.research.google.com/notebooks/data_table.ipynb>data table notebook</a>'\n",
              "            + ' to learn more about interactive tables.';\n",
              "          element.innerHTML = '';\n",
              "          dataTable['output_type'] = 'display_data';\n",
              "          await google.colab.output.renderOutput(dataTable, element);\n",
              "          const docLink = document.createElement('div');\n",
              "          docLink.innerHTML = docLinkHtml;\n",
              "          element.appendChild(docLink);\n",
              "        }\n",
              "      </script>\n",
              "    </div>\n",
              "  </div>\n",
              "  "
            ],
            "text/plain": [
              "            id  week  center_id  meal_id  checkout_price  base_price  \\\n",
              "0      1028232   146         55     1885          158.11      159.11   \n",
              "1      1127204   146         55     1993          160.11      159.11   \n",
              "2      1212707   146         55     2539          157.14      159.14   \n",
              "3      1082698   146         55     2631          162.02      162.02   \n",
              "4      1400926   146         55     1248          163.93      163.93   \n",
              "...        ...   ...        ...      ...             ...         ...   \n",
              "32568  1250239   155         61     1543          482.09      484.09   \n",
              "32569  1039516   155         61     2304          483.09      483.09   \n",
              "32570  1158107   155         61     2664          322.07      323.07   \n",
              "32571  1444235   155         61     2569          322.07      323.07   \n",
              "32572  1291286   155         61     2490          276.45      276.45   \n",
              "\n",
              "       emailer_for_promotion  homepage_featured   category  cuisine  \\\n",
              "0                          0                  0  Beverages     Thai   \n",
              "1                          0                  0  Beverages     Thai   \n",
              "2                          0                  0  Beverages     Thai   \n",
              "3                          0                  0  Beverages   Indian   \n",
              "4                          0                  0  Beverages   Indian   \n",
              "...                      ...                ...        ...      ...   \n",
              "32568                      0                  0     Desert   Indian   \n",
              "32569                      0                  0     Desert   Indian   \n",
              "32570                      0                  0      Salad  Italian   \n",
              "32571                      0                  0      Salad  Italian   \n",
              "32572                      0                  0      Salad  Italian   \n",
              "\n",
              "       city_code  region_code center_type  op_area  \n",
              "0            647           56      TYPE_C      2.0  \n",
              "1            647           56      TYPE_C      2.0  \n",
              "2            647           56      TYPE_C      2.0  \n",
              "3            647           56      TYPE_C      2.0  \n",
              "4            647           56      TYPE_C      2.0  \n",
              "...          ...          ...         ...      ...  \n",
              "32568        473           77      TYPE_A      4.5  \n",
              "32569        473           77      TYPE_A      4.5  \n",
              "32570        473           77      TYPE_A      4.5  \n",
              "32571        473           77      TYPE_A      4.5  \n",
              "32572        473           77      TYPE_A      4.5  \n",
              "\n",
              "[32573 rows x 14 columns]"
            ]
          },
          "metadata": {}
        }
      ]
    },
    {
      "cell_type": "markdown",
      "metadata": {
        "id": "umekegRAWNHk"
      },
      "source": [
        "Число столбцов в `train` по типу. Как видно, многие имеют числовой тип. Однако, некоторые из них по смыслу являются категориальными. Для нашего удобства создадим списки с именами категориальных и числовых признаков."
      ]
    },
    {
      "cell_type": "code",
      "metadata": {
        "id": "1p4xEumBT84T",
        "colab": {
          "base_uri": "https://localhost:8080/"
        },
        "outputId": "bffc1da5-7b47-45e7-933f-58829b556587"
      },
      "source": [
        "train.dtypes.value_counts()"
      ],
      "execution_count": null,
      "outputs": [
        {
          "output_type": "execute_result",
          "data": {
            "text/plain": [
              "int64      9\n",
              "float64    3\n",
              "object     3\n",
              "dtype: int64"
            ]
          },
          "metadata": {},
          "execution_count": 12
        }
      ]
    },
    {
      "cell_type": "code",
      "metadata": {
        "id": "LPCZQ6SZX4fW",
        "colab": {
          "base_uri": "https://localhost:8080/"
        },
        "outputId": "47b8f32d-7d67-4e87-d521-87960975e827"
      },
      "source": [
        "train.columns.values"
      ],
      "execution_count": null,
      "outputs": [
        {
          "output_type": "execute_result",
          "data": {
            "text/plain": [
              "array(['id', 'week', 'center_id', 'meal_id', 'checkout_price',\n",
              "       'base_price', 'emailer_for_promotion', 'homepage_featured',\n",
              "       'num_orders', 'category', 'cuisine', 'city_code', 'region_code',\n",
              "       'center_type', 'op_area'], dtype=object)"
            ]
          },
          "metadata": {},
          "execution_count": 13
        }
      ]
    },
    {
      "cell_type": "markdown",
      "metadata": {
        "id": "3BrOADW8a1rd"
      },
      "source": [
        "Признак `op_area (Area of operation (in km^2))` скорее всего категориальный (всего 30 различных значений). Однако с ростом `op_area` важность признака интуитивно должна повышаться, поэтому оставим его числовым."
      ]
    },
    {
      "cell_type": "code",
      "metadata": {
        "id": "Cv6bzP3TUvXT",
        "colab": {
          "base_uri": "https://localhost:8080/",
          "height": 572
        },
        "outputId": "4f1dc00e-7259-4e65-d3c5-9cda56a6b5d5"
      },
      "source": [
        "display(train[\"op_area\"].nunique(),\n",
        "        train[\"op_area\"].value_counts())"
      ],
      "execution_count": null,
      "outputs": [
        {
          "output_type": "display_data",
          "data": {
            "text/plain": [
              "30"
            ]
          },
          "metadata": {}
        },
        {
          "output_type": "display_data",
          "data": {
            "text/plain": [
              "4.0    52548\n",
              "3.9    48533\n",
              "3.8    40080\n",
              "4.4    26060\n",
              "4.5    25688\n",
              "2.8    25503\n",
              "4.1    23346\n",
              "7.0    20686\n",
              "4.8    18648\n",
              "3.4    17258\n",
              "3.6    16821\n",
              "5.1    13366\n",
              "4.2    12608\n",
              "2.7    12430\n",
              "3.0    11184\n",
              "2.0     9512\n",
              "6.7     7046\n",
              "6.3     7015\n",
              "5.6     6993\n",
              "3.7     6801\n",
              "3.5     6666\n",
              "3.2     6333\n",
              "5.0     6164\n",
              "5.3     6053\n",
              "4.6     5983\n",
              "4.7     5975\n",
              "2.4     5021\n",
              "2.9     4712\n",
              "1.9     4083\n",
              "0.9     3432\n",
              "Name: op_area, dtype: int64"
            ]
          },
          "metadata": {}
        }
      ]
    },
    {
      "cell_type": "code",
      "metadata": {
        "id": "S8FfHLGcTKZz"
      },
      "source": [
        "cat_features = [\n",
        "    \"center_id\", \n",
        "    \"meal_id\", \n",
        "    \"emailer_for_promotion\", \n",
        "    \"homepage_featured\", \n",
        "    \"category\", \n",
        "    \"cuisine\", \n",
        "    \"city_code\", \n",
        "    \"region_code\", \n",
        "    \"center_type\"\n",
        "]\n",
        "\n",
        "num_features = [\n",
        "    \"week\", \n",
        "    \"checkout_price\", \n",
        "    \"base_price\", \n",
        "    \"op_area\"\n",
        "]"
      ],
      "execution_count": null,
      "outputs": []
    },
    {
      "cell_type": "code",
      "metadata": {
        "id": "d_1FE8r-jCvv"
      },
      "source": [
        "# Все признаки\n",
        "feature_cols = num_features + cat_features\n",
        "# Целевая переменная\n",
        "target_col = 'num_orders'"
      ],
      "execution_count": null,
      "outputs": []
    },
    {
      "cell_type": "code",
      "metadata": {
        "id": "jBQhQv-wn9G_"
      },
      "source": [
        "train_X = train[feature_cols]\n",
        "train_y = train[target_col]\n",
        "# После выделения названий признаков в список, порядок столбцов изменился\n",
        "test = test[feature_cols]"
      ],
      "execution_count": null,
      "outputs": []
    },
    {
      "cell_type": "markdown",
      "metadata": {
        "id": "M4hjUxXptM-A"
      },
      "source": [
        "# Part II: EDA"
      ]
    },
    {
      "cell_type": "markdown",
      "metadata": {
        "id": "Qx8YvO-9jI1B"
      },
      "source": [
        "Посмотрим на данные чуть более пристально."
      ]
    },
    {
      "cell_type": "code",
      "metadata": {
        "colab": {
          "base_uri": "https://localhost:8080/",
          "height": 1000
        },
        "id": "rvii_nbgkBkf",
        "outputId": "35da0f1c-0b3b-4315-f695-cd68be6d301d"
      },
      "source": [
        "fig, ax = plt.subplots(3, 3, figsize=(50, 50))\n",
        "\n",
        "for i, feature in enumerate(cat_features):\n",
        "    sns.countplot(y=train_X[feature],\n",
        "                  ax=ax.reshape(-1)[i])\n",
        "    \n",
        "plt.show()"
      ],
      "execution_count": null,
      "outputs": [
        {
          "output_type": "display_data",
          "data": {
            "image/png": "[encoded data removed]",
            "text/plain": [
              "<Figure size 3600x3600 with 9 Axes>"
            ]
          },
          "metadata": {
            "needs_background": "light"
          }
        }
      ]
    },
    {
      "cell_type": "code",
      "metadata": {
        "id": "wLOk0ft5cB7y",
        "colab": {
          "base_uri": "https://localhost:8080/",
          "height": 593
        },
        "outputId": "1172dc45-90c3-4591-ff49-7b6b209796ff"
      },
      "source": [
        "# Prepare Data\n",
        "df = train_X[[\"meal_id\", \"week\"]].groupby('meal_id').nunique()\n",
        "df.sort_values('week', inplace=True)\n",
        "df.reset_index(inplace=True)\n",
        "\n",
        "# Draw plot\n",
        "fig, ax = plt.subplots(figsize=(20,8), dpi= 80)\n",
        "ax.vlines(x=df.index, ymin=0, ymax=df.week, color='firebrick', alpha=0.7, linewidth=1.5)\n",
        "ax.scatter(x=df.index, y=df.week, s=75, color='firebrick', alpha=0.7)\n",
        "\n",
        "# Title, Label, Ticks and Ylim\n",
        "ax.set_title(\"История каждого товара по неделям\")\n",
        "ax.set_ylabel('count')\n",
        "ax.set_xticks(df.index)\n",
        "ax.set_xticklabels(df.meal_id, rotation=90, fontdict={'horizontalalignment': 'center', 'size':12})\n",
        "ax.set_ylim(0, 160)\n",
        "\n",
        "# Draw plot\n",
        "import matplotlib.patches as patches\n",
        "\n",
        "# Annotate\n",
        "for row in df.itertuples():\n",
        "    ax.text(row.Index, row.week+1.5, s=row.week, horizontalalignment= 'center', verticalalignment='bottom', fontsize=9)\n",
        "\n",
        "# Add patches to color the X axis labels\n",
        "p1 = patches.Rectangle((.145, 0.044), width=.093, height=.08, alpha=.09, facecolor='red', transform=fig.transFigure)\n",
        "p2 = patches.Rectangle((.238, 0.044), width=.638, height=.08, alpha=.09, facecolor='green', transform=fig.transFigure)\n",
        "fig.add_artist(p1)\n",
        "fig.add_artist(p2)\n",
        "plt.show()"
      ],
      "execution_count": null,
      "outputs": [
        {
          "output_type": "display_data",
          "data": {
            "image/png": "[encoded data removed]",
            "text/plain": [
              "<Figure size 1600x640 with 1 Axes>"
            ]
          },
          "metadata": {
            "needs_background": "light"
          }
        }
      ]
    },
    {
      "cell_type": "markdown",
      "metadata": {
        "id": "zKzzVm6uFnAM"
      },
      "source": [
        "Видим, что не по всем товарам есть полная история в 145 недель (`2956`, `1571`, `2104`, `2490`, `2569`, `2664`). Тем не менее, история всё равно большая."
      ]
    },
    {
      "cell_type": "code",
      "metadata": {
        "id": "yjmwcdQaev6P",
        "colab": {
          "base_uri": "https://localhost:8080/"
        },
        "outputId": "4d0f908c-1c0d-43f2-b183-3c3d94d5781b"
      },
      "source": [
        "print(f\"Всего уникальных центров: {train_X.center_id.nunique()}\")\n",
        "print(f\"Всего уникальных видов еды: {train_X.meal_id.nunique()}\")"
      ],
      "execution_count": null,
      "outputs": [
        {
          "output_type": "stream",
          "name": "stdout",
          "text": [
            "Всего уникальных центров: 77\n",
            "Всего уникальных видов еды: 51\n"
          ]
        }
      ]
    },
    {
      "cell_type": "markdown",
      "metadata": {
        "id": "mL3Ooj0npQEm"
      },
      "source": [
        "Теперь посмотрим сколько уникальной продукции есть в каждом центре."
      ]
    },
    {
      "cell_type": "code",
      "metadata": {
        "id": "5Q43S6mdefC8",
        "colab": {
          "base_uri": "https://localhost:8080/",
          "height": 570
        },
        "outputId": "16d67aaf-19f8-4841-d5b3-dfea91ecbed9"
      },
      "source": [
        "df = train_X[[\"center_id\", \"meal_id\"]].groupby(\"center_id\").nunique()\n",
        "df.sort_values('meal_id', inplace=True)\n",
        "df.reset_index(inplace=True)\n",
        "\n",
        "fig, ax = plt.subplots(figsize=(22,8), facecolor='white', dpi= 80)\n",
        "ax.vlines(x=df.index, ymin=0, ymax=df.meal_id, color='firebrick', alpha=0.7, linewidth=5)\n",
        "\n",
        "# Annotate Text\n",
        "for i, meal_id in enumerate(df.meal_id):\n",
        "    ax.text(i, meal_id+1, meal_id, horizontalalignment='center')\n",
        "\n",
        "\n",
        "# Title, Label, Ticks and Ylim\n",
        "ax.set_title('Количество уникальной продукции по каждому центру', fontdict={'size':22})\n",
        "ax.set(ylabel='count', ylim=(0, 60))\n",
        "plt.xticks(df.index, df.center_id, rotation=90, horizontalalignment='center', fontsize=12)\n",
        "\n",
        "plt.show()"
      ],
      "execution_count": null,
      "outputs": [
        {
          "output_type": "display_data",
          "data": {
            "image/png": "[encoded data removed]",
            "text/plain": [
              "<Figure size 1760x640 with 1 Axes>"
            ]
          },
          "metadata": {}
        }
      ]
    },
    {
      "cell_type": "markdown",
      "metadata": {
        "id": "9k8ucmGqS2Jy"
      },
      "source": [
        "### 2.1 Исследование данных на наличие пропусков и некорректных значений. \n",
        "\n",
        "**Либо удалим их, либо сделаем imputing (проинтерполируем).**\n"
      ]
    },
    {
      "cell_type": "markdown",
      "metadata": {
        "id": "Molgm8TpS7Sz"
      },
      "source": [
        "Данные могут иметь пропущенные значения не случайно, а в виду некоторых закономерностей. В таких случаях пропуски можно выразить на основе информации, содержащейся в наборе данных. Благодаря описанию данных, приложенных к соревнованию, можно заменить их подходящими значениями."
      ]
    },
    {
      "cell_type": "code",
      "metadata": {
        "id": "qS_9WXroPfOC",
        "colab": {
          "base_uri": "https://localhost:8080/"
        },
        "outputId": "1016587e-78b4-42dd-8687-e0d420aa1068"
      },
      "source": [
        "cprint(\"Dtypes in Train :\", 'green')\n",
        "cprint('*'*35, 'green')\n",
        "print('\\n', train_X.info())\n",
        "\n",
        "cprint(\"Dtypes in Test :\", 'green')\n",
        "cprint('*'*35, 'green')\n",
        "print('\\n', test.info())"
      ],
      "execution_count": null,
      "outputs": [
        {
          "output_type": "stream",
          "name": "stdout",
          "text": [
            "\u001b[32mDtypes in Train :\u001b[0m\n",
            "\u001b[32m***********************************\u001b[0m\n",
            "<class 'pandas.core.frame.DataFrame'>\n",
            "Int64Index: 456548 entries, 0 to 456547\n",
            "Data columns (total 13 columns):\n",
            " #   Column                 Non-Null Count   Dtype  \n",
            "---  ------                 --------------   -----  \n",
            " 0   week                   456548 non-null  int64  \n",
            " 1   checkout_price         456548 non-null  float64\n",
            " 2   base_price             456548 non-null  float64\n",
            " 3   op_area                456548 non-null  float64\n",
            " 4   center_id              456548 non-null  int64  \n",
            " 5   meal_id                456548 non-null  int64  \n",
            " 6   emailer_for_promotion  456548 non-null  int64  \n",
            " 7   homepage_featured      456548 non-null  int64  \n",
            " 8   category               456548 non-null  object \n",
            " 9   cuisine                456548 non-null  object \n",
            " 10  city_code              456548 non-null  int64  \n",
            " 11  region_code            456548 non-null  int64  \n",
            " 12  center_type            456548 non-null  object \n",
            "dtypes: float64(3), int64(7), object(3)\n",
            "memory usage: 68.8+ MB\n",
            "\n",
            " None\n",
            "\u001b[32mDtypes in Test :\u001b[0m\n",
            "\u001b[32m***********************************\u001b[0m\n",
            "<class 'pandas.core.frame.DataFrame'>\n",
            "Int64Index: 32573 entries, 0 to 32572\n",
            "Data columns (total 13 columns):\n",
            " #   Column                 Non-Null Count  Dtype  \n",
            "---  ------                 --------------  -----  \n",
            " 0   week                   32573 non-null  int64  \n",
            " 1   checkout_price         32573 non-null  float64\n",
            " 2   base_price             32573 non-null  float64\n",
            " 3   op_area                32573 non-null  float64\n",
            " 4   center_id              32573 non-null  int64  \n",
            " 5   meal_id                32573 non-null  int64  \n",
            " 6   emailer_for_promotion  32573 non-null  int64  \n",
            " 7   homepage_featured      32573 non-null  int64  \n",
            " 8   category               32573 non-null  object \n",
            " 9   cuisine                32573 non-null  object \n",
            " 10  city_code              32573 non-null  int64  \n",
            " 11  region_code            32573 non-null  int64  \n",
            " 12  center_type            32573 non-null  object \n",
            "dtypes: float64(3), int64(7), object(3)\n",
            "memory usage: 3.5+ MB\n",
            "\n",
            " None\n"
          ]
        }
      ]
    },
    {
      "cell_type": "markdown",
      "metadata": {
        "id": "gW0BmU_UXr9_"
      },
      "source": [
        "### 2.2 Распределение целевой переменной. Поиск аномалий.\n",
        "\n",
        "**Можно убрать выбросы из датасета.**"
      ]
    },
    {
      "cell_type": "code",
      "metadata": {
        "id": "pVoDtAEqb0kY",
        "colab": {
          "base_uri": "https://localhost:8080/",
          "height": 661
        },
        "outputId": "6481f73f-977a-44cb-8a12-6a52acf1cc5c"
      },
      "source": [
        "with sns.axes_style('darkgrid'):\n",
        "    fig = plt.figure(figsize=(15,7))\n",
        "\n",
        "    sns.histplot(data=train_y, bins=200, kde=True, color=\"Green\")\n",
        "    \n",
        "    plt.title(\"Распределение num_orders (target)\", fontsize = 22, fontweight=\"bold\")\n",
        "    plt.xlabel(\"num_orders\", fontsize=14)\n",
        "    plt.ylabel('count', fontsize=14)    \n",
        "\n",
        "    print(\"num_orders\")\n",
        "    display(train_y.describe())\n",
        "    print(\"-\" * 35)\n",
        "    \n",
        "    plt.show()"
      ],
      "execution_count": null,
      "outputs": [
        {
          "output_type": "stream",
          "name": "stdout",
          "text": [
            "num_orders\n"
          ]
        },
        {
          "output_type": "display_data",
          "data": {
            "text/plain": [
              "count    456548.000000\n",
              "mean        261.872760\n",
              "std         395.922798\n",
              "min          13.000000\n",
              "25%          54.000000\n",
              "50%         136.000000\n",
              "75%         324.000000\n",
              "max       24299.000000\n",
              "Name: num_orders, dtype: float64"
            ]
          },
          "metadata": {}
        },
        {
          "output_type": "stream",
          "name": "stdout",
          "text": [
            "-----------------------------------\n"
          ]
        },
        {
          "output_type": "display_data",
          "data": {
            "image/png": "[encoded data removed]",
            "text/plain": [
              "<Figure size 1080x504 with 1 Axes>"
            ]
          },
          "metadata": {}
        }
      ]
    },
    {
      "cell_type": "markdown",
      "metadata": {
        "id": "vFmG__KDeVZW"
      },
      "source": [
        "**Вывод по данным:**\n",
        "\n",
        "* В обучающей выборке отсутствуют пропуски, но были обнаружены выбросы. \n",
        "    * При этом в категориальных признаках наблюдается существенный дисбаланс, что может повлиять на возможность модели получить значимую связь между целевой переменной и данными признаками.\n",
        "\n",
        "* Количество заказов имеет отрицательную корреляцию со следующими признаками: итоговая цена и базовая цена (при этом между данными показателями также наблюдается высокая положительная корреляция)\n",
        "\n",
        "* Количество заказов имеет положительную корреляцию со следующими признаками: отправка промо по e-mail и показы продукции на главной странице (при этом между данными показателями также наблюдается высокая положительная корреляция)\n",
        "\n",
        "* Объём выборки позволяет провести обучение (456548), что говорит о её достаточности.\n",
        "\n",
        "* Непротиворечивость данных не наблюдается.\n",
        "\n",
        "* Удовлетворяет ли ожиданиям? \n",
        "\n",
        "    * Необходимо провести предобработку датасета перед обучением. Также необходимо расширить датасет с положительными примерами по промоакциям и наличию товара на главной странице сайта, либо убрать эту информацию совсем.\n",
        "\n",
        "* Возможно, стоит перейти от просто порядкового перечисления недели к неделе в месяце и конкретному месяцу, чтобы модель смогла найти новые закономерности"
      ]
    },
    {
      "cell_type": "markdown",
      "metadata": {
        "id": "Hf2sg146tU1C"
      },
      "source": [
        "# Part III: Prediction"
      ]
    },
    {
      "cell_type": "markdown",
      "metadata": {
        "id": "S-gcWDBEftU5"
      },
      "source": [
        "## 3.1 Прогнозирование среднего значения количества заказов для каждого склада"
      ]
    },
    {
      "cell_type": "code",
      "metadata": {
        "id": "pb-sPQ2ntxvc"
      },
      "source": [
        "class AveragePredictor():\n",
        "    def __init__(self):\n",
        "        self.predictions = pd.DataFrame()\n",
        "        \n",
        "    def fit(self, df):\n",
        "        self.predictions = df.groupby(['center_id', 'meal_id'], as_index=False).agg({'num_orders':'mean'})\n",
        "        self.predictions[\"num_orders\"] = self.predictions[\"num_orders\"].apply(lambda x: math.ceil(x))\n",
        "        \n",
        "    def predict(self, df):\n",
        "        df_for_pred = df.loc[:, ['center_id', 'meal_id']].drop_duplicates()\n",
        "        preds = df_for_pred.merge(self.predictions, on=['center_id', 'meal_id'], how='inner')\n",
        "        return preds"
      ],
      "execution_count": null,
      "outputs": []
    },
    {
      "cell_type": "code",
      "metadata": {
        "id": "h4a3o1S9gQFp",
        "colab": {
          "base_uri": "https://localhost:8080/"
        },
        "outputId": "5bd491ad-5e90-4b13-91f4-5fd08f7c620d"
      },
      "source": [
        "# подготовка данных для обучения и теста\n",
        "border = int(0.8 * len(train))\n",
        "train_shuffle = train.sample(frac=1)\n",
        "\n",
        "# обучение модели\n",
        "avg_pred = AveragePredictor()\n",
        "avg_pred.fit(train_shuffle[:border])\n",
        "\n",
        "# обучение модели\n",
        "avg_pred = AveragePredictor()\n",
        "avg_pred.fit(train_shuffle[:border])# предсказания\n",
        "y_pred = avg_pred.predict(train_shuffle[border:])\n",
        "\n",
        "# проверка качества\n",
        "for_test = train_shuffle[['center_id', 'meal_id', 'num_orders']]\n",
        "for_test = for_test.merge(y_pred, how='inner', on=['center_id', 'meal_id'], suffixes=['_true', '_pred'])\n",
        "mean_absolute_percentage_error(for_test.num_orders_true, for_test.num_orders_pred)"
      ],
      "execution_count": null,
      "outputs": [
        {
          "output_type": "execute_result",
          "data": {
            "text/plain": [
              "0.7642046579534086"
            ]
          },
          "metadata": {},
          "execution_count": 26
        }
      ]
    },
    {
      "cell_type": "markdown",
      "metadata": {
        "id": "9XDq_JDLhwn2"
      },
      "source": [
        "## 3.2 CatBoost"
      ]
    },
    {
      "cell_type": "markdown",
      "metadata": {
        "id": "uNS63iMurHxw"
      },
      "source": [
        "**Ключевые гиперпараметры:**\n",
        "- `iterations` -- количество итераций;\n",
        "- `loss_function` -- функция ошибок (LogLoss или CrossEntropyLoss);\n",
        "- `learning_rate` -- длина градиентного шага. Вычисляется автоматически на основе количества итераций и размера обучающей выборки;\n",
        "- `depth` -- глубина деревьев;\n",
        "- `rsm` -- использовать ли метод случайных подпространств при построении деревьев (по умолчанию отключено);\n",
        "- `one_hot_max_size` -- максимальная мощность категориального признака, при которой к нему всё ещё применяется one-hot encoding. \n",
        "\n",
        "С полным списком гиперпараметров можно ознакомиться в официальной документации: https://catboost.ai/docs/concepts/python-reference_parameters-list.html \n",
        "\n",
        "---\n",
        "\n",
        "Сильная сторона `CatBoost` в том, что он показывает достойное качество при значениях гиперпараметров по умолчанию. Тем не менее, это не означает, что его не следует пытаться конфигурировать! Мы рассмотрим несколько основных настроек, которые позволяют существенно улучшить качество предсказания и, в целом, ощущения от работы с этим инструментом:\n",
        "\n",
        "- **Использование GPU для ускорения вычислений.** Одна из самых сильных сторон `CatBoost` -- возможность обучения на GPU. На малых данных прирост качества незаметен, но на достаточно больших, production-level данных возможен 40-кратный прирост при сравнении достаточно мощной GPU (V100) против достаточно мощного CPU. Для того, чтобы использовать GPU, достаточно выставить `task_type='GPU'`. Если в вашем распоряжении несколько GPU, `CatBoost` умеет использовать их для распределённого обучения. От вас требуется только перечислить их названия / номера через запятую в параметре `devices`.\n",
        "\n",
        "- **Вычисление метрик качества на каждой итерации.** LogLoss, который алгоритм пытается минимизировать, это неинтерпретируемая величина. Но `CatBoost` умеет в реальном времени подсчитывать привычные метрики качества в духе ROC-AUC, F1, Precision, Recall, Accuracy etc. Достаточно просто перечислить их в параметре `eval_metric` в конструкторе.\n",
        "\n",
        "- **Автоматическая детекция переобучения**. Если у вас есть валидационная выборка, вы можете использовать поведение функции ошибок на ней для того, чтобы понять, что алгоритм начал переобучаться, и остановить его обучение. Степень уверенности в этом задаётся параметром `od_pval` (от 0 до 1, причём чем меньше, тем меньше вероятность ложного срабатывания, но и тем выше шанс потратить много итераций впустую). Количество шагов, которые нужно подождать после того, как алгоритм начал переобучаться, контролируется парамеров `od_wait`. \n",
        "\n",
        "- **Автоматический выбор лучшей модели по метрикам качества на валидационной выборке.** Достаточно прописать `use_best_model=True` в конструкторе объекта.\n",
        "\n",
        "- **Early stopping.** Предыдущий метод ранней остановки обучения алгоритма опирается на т.н. *детекцию разладки* -- статистический метод определения момента начала аномального поведения системы. Есть более простой, более интерпретируемый способ -- т.н. *early stopping*, который останавливает обучение, если метрика качества на валидационной выборке не улучшается на протяжении наперёд заданного количества шагов, которое контролируется параметром `early_stopping_rounds`. \n",
        "\n",
        "- **Checkpoints.** Если ваш алгоритм обучается достаточно долго (скажем, несколько часов), вы захотите сохранять промежуточные результаты на диск, чтобы потом, в случае непредвиденной ошибки в духе отказа оборудования, начать не с нуля, а с последнего чекпоинта. Для сохранения чекпоинтов достаточно задать параметр `train_dir` в конструкторе и прописать `save_snapshot=True`, `snapshot_file=...` в параметрах метода `fit`.\n",
        "\n",
        "- **Baseline.** Если у вас уже есть достаточно хороший алгоритм другой природы (скажем, метрический), то вы можете обучить бустинг корректировать его ошибки. Достаточно просто передать предсказания имеющейся модели через параметр `baseline`. Типичный пример такой ситуации -- бустинг на огромном количестве сложных признаков (категориальные, эмбеддинговые, текстовые etc) поверх линейной модели, в которой признаки были подобраны экспертами в предметной области. Условно говоря, ясно, что время доставки можно неплохо приблизить через расстояние и то, сколько, в среднем, занимает доставка в этот район, но есть множество факторов, которые в линейную модель не добавишь, и именно тут выручает бустинг."
      ]
    },
    {
      "cell_type": "code",
      "metadata": {
        "id": "dMFS5wWuCtGE",
        "colab": {
          "base_uri": "https://localhost:8080/"
        },
        "outputId": "00c4dadd-5823-45cf-cbd1-26637a429d71"
      },
      "source": [
        "catboost_params = dict(\n",
        "    iterations=1000,\n",
        "    depth=4,\n",
        "    custom_metric=\"MAPE\",\n",
        "    od_pval=0.05,\n",
        "    od_wait=20,\n",
        "    max_ctr_complexity=4,\n",
        "    verbose=250,\n",
        "    random_seed=2021,\n",
        "    task_type=\"GPU\",\n",
        "    devices=\"0\",\n",
        ")\n",
        "\n",
        "kf = KFold(n_splits=4)\n",
        "models = []\n",
        "scores = []\n",
        "Y_predict = []\n",
        "MAPE_metrics = []\n",
        "\n",
        "for train_index, test_index in kf.split(train_X):\n",
        "\n",
        "    # Переведём обучающую и валидационную выборки в нативный \n",
        "    # для алгоритмов из catboost формат catboost.Pool\n",
        "    train_pool = catboost.Pool(\n",
        "        train_X.iloc[train_index],\n",
        "        label=train_y.iloc[train_index],\n",
        "        cat_features=cat_features\n",
        "    )\n",
        "    val_pool = catboost.Pool(\n",
        "        train_X.iloc[test_index],\n",
        "        label=train_y.iloc[test_index],\n",
        "        cat_features=cat_features\n",
        "    )\n",
        "\n",
        "    # Обучение алгоритма\n",
        "    model = CatBoostRegressor(\n",
        "        **catboost_params\n",
        "    )\n",
        "    model = model.fit(\n",
        "        train_pool,\n",
        "        eval_set=val_pool\n",
        "    )\n",
        "\n",
        "    # Сохраним предсказания алгоритма\n",
        "    Y_predict.append(model.predict(test))\n",
        "    scores.append(model.score(val_pool))\n",
        "    \n",
        "    # Сохраним модель\n",
        "    models.append(model)\n",
        "    MAPE_metrics.append((\n",
        "        model.best_score_[\"learn\"][\"MAPE\"],\n",
        "        model.best_score_[\"validation\"][\"MAPE\"]\n",
        "    ))"
      ],
      "execution_count": null,
      "outputs": [
        {
          "output_type": "stream",
          "name": "stderr",
          "text": [
            "Custom logger is already specified. Specify more than one logger at same time is not thread safe."
          ]
        },
        {
          "output_type": "stream",
          "name": "stdout",
          "text": [
            "Learning rate set to 0.116639\n",
            "0:\tlearn: 360.2728839\ttest: 414.4542049\tbest: 414.4542049 (0)\ttotal: 58.9ms\tremaining: 58.8s\n",
            "250:\tlearn: 175.1867047\ttest: 227.7647925\tbest: 227.3757293 (235)\ttotal: 12.3s\tremaining: 36.7s\n",
            "500:\tlearn: 162.7908774\ttest: 225.7318474\tbest: 224.7985875 (464)\ttotal: 24.3s\tremaining: 24.2s\n",
            "bestTest = 224.7985875\n",
            "bestIteration = 464\n",
            "Shrink model to first 465 iterations.\n",
            "Learning rate set to 0.116639\n",
            "0:\tlearn: 372.0826309\ttest: 381.0092670\tbest: 381.0092670 (0)\ttotal: 58.4ms\tremaining: 58.3s\n",
            "250:\tlearn: 176.5566485\ttest: 210.7915953\tbest: 210.7889777 (248)\ttotal: 12.3s\tremaining: 36.7s\n",
            "500:\tlearn: 164.1520020\ttest: 204.3146123\tbest: 204.3146123 (500)\ttotal: 27.4s\tremaining: 27.3s\n",
            "750:\tlearn: 156.9017794\ttest: 201.5212482\tbest: 201.5212482 (750)\ttotal: 41s\tremaining: 13.6s\n",
            "999:\tlearn: 152.2272042\ttest: 199.7825079\tbest: 199.7622874 (997)\ttotal: 53.1s\tremaining: 0us\n",
            "bestTest = 199.7622874\n",
            "bestIteration = 997\n",
            "Shrink model to first 998 iterations.\n",
            "Learning rate set to 0.116639\n",
            "0:\tlearn: 379.1304006\ttest: 357.5368478\tbest: 357.5368478 (0)\ttotal: 57.8ms\tremaining: 57.7s\n",
            "250:\tlearn: 184.7657797\ttest: 190.5153589\tbest: 190.5153589 (250)\ttotal: 12.1s\tremaining: 36.1s\n",
            "500:\tlearn: 171.9322401\ttest: 183.3243037\tbest: 183.3243037 (500)\ttotal: 24.2s\tremaining: 24.1s\n",
            "750:\tlearn: 164.7473234\ttest: 180.0208513\tbest: 180.0208513 (750)\ttotal: 36.2s\tremaining: 12s\n",
            "999:\tlearn: 159.4657420\ttest: 177.9920857\tbest: 177.9920857 (999)\ttotal: 49.1s\tremaining: 0us\n",
            "bestTest = 177.9920857\n",
            "bestIteration = 999\n",
            "Learning rate set to 0.116639\n",
            "0:\tlearn: 384.2762002\ttest: 340.0129656\tbest: 340.0129656 (0)\ttotal: 61.1ms\tremaining: 1m 1s\n",
            "250:\tlearn: 185.3219886\ttest: 179.5416426\tbest: 179.5246145 (246)\ttotal: 12.2s\tremaining: 36.6s\n",
            "500:\tlearn: 171.0530655\ttest: 176.7323377\tbest: 176.4257225 (458)\ttotal: 24.4s\tremaining: 24.3s\n",
            "750:\tlearn: 164.5491525\ttest: 177.3609685\tbest: 176.3910568 (586)\ttotal: 36.6s\tremaining: 12.1s\n",
            "bestTest = 176.3910568\n",
            "bestIteration = 586\n",
            "Shrink model to first 587 iterations.\n"
          ]
        }
      ]
    },
    {
      "cell_type": "code",
      "metadata": {
        "id": "xuPRqnVaQUpF"
      },
      "source": [
        "metrics = [\n",
        "        (model.best_score_[\"learn\"][\"MAPE\"], \n",
        "        model.best_score_[\"validation\"][\"MAPE\"]) \n",
        "        for model in models\n",
        "]"
      ],
      "execution_count": null,
      "outputs": []
    },
    {
      "cell_type": "code",
      "metadata": {
        "id": "hdD6xqws-s7L",
        "colab": {
          "base_uri": "https://localhost:8080/"
        },
        "outputId": "d7e3ab8d-b803-4cf4-e00b-19a4597f1186"
      },
      "source": [
        "metrics"
      ],
      "execution_count": null,
      "outputs": [
        {
          "output_type": "execute_result",
          "data": {
            "text/plain": [
              "[(0.6019205538081428, 0.689698769351744),\n",
              " (0.5901135167240539, 0.5635946959574897),\n",
              " (0.5984151721177182, 0.6143506542576027),\n",
              " (0.6202240783006387, 0.6374268833726137)]"
            ]
          },
          "metadata": {},
          "execution_count": 30
        }
      ]
    },
    {
      "cell_type": "code",
      "metadata": {
        "colab": {
          "base_uri": "https://localhost:8080/"
        },
        "id": "jNFwuDOmae6-",
        "outputId": "7b494703-8d1c-4c9b-bea0-7089fdb4af19"
      },
      "source": [
        "train_MAPE, val_MAPE = np.mean(metrics, axis=0)\n",
        "print(f\"Training MAPE: {train_MAPE}, Validation MAPE: {val_MAPE}\")"
      ],
      "execution_count": null,
      "outputs": [
        {
          "output_type": "stream",
          "name": "stdout",
          "text": [
            "Training MAPE: 0.6026683302376383, Validation MAPE: 0.6262677507348625\n"
          ]
        }
      ]
    },
    {
      "cell_type": "markdown",
      "metadata": {
        "id": "blio3P2gjZ4j"
      },
      "source": [
        "Метрика MAPE говорит нам о том, что в среднем прогноз модели ошибается на 10%.\n",
        "\n",
        "Модель `CatBoostRegressor` оптимальна по результату метрики качества и по времени обучения."
      ]
    },
    {
      "cell_type": "markdown",
      "metadata": {
        "id": "dV0nqDY3dSkm"
      },
      "source": [
        "**Что можно сказать о моделях?**\n",
        "\n",
        "В качестве baseline модели была выбрана модель AveragePredictor, которая выдаёт в качестве ответа среднее значение заказов для каждого вида продукции в каждом отдельном центре. На данной моделе качество по метрике MAPE составило 0,76, что говорит о том, что прогноз модели в среднем ошибается на 76%.\n",
        "\n",
        "Далее была рассморена модель RandomForest, которая дала качество предсказаний по метрике MAPE 0,59. Наблюдается сокращение ошибки на 22%.\n",
        "\n",
        "В качестве основной модели для дальнейшего прогнозирования была выбрана модель CatBoostRegressor. Данная модель оптимальна как по результату метрики качества, так и по времени обучения. Без подбора параметров её качество составило по метрике MAPE ..., а после подбора 0,1. Улучшение качества модели по сравнению с самой простой базовой моделью позволило сократить ошибку на 87%. "
      ]
    },
    {
      "cell_type": "markdown",
      "metadata": {
        "id": "zSwOWGLseOLb"
      },
      "source": [
        "# Part IV: Post-hoc анализ"
      ]
    },
    {
      "cell_type": "markdown",
      "metadata": {
        "id": "ePOwWc9jenfr"
      },
      "source": [
        "## 5.1 Проанализируем важности признаков с помощью метода SHAP-values."
      ]
    },
    {
      "cell_type": "markdown",
      "metadata": {
        "id": "FySIZoVjxGhd"
      },
      "source": [
        "Модель catboost хранит в себе поле с значениями важности признаков. Ознакомиться с алгоритмом их вычисления можно в официальной документации: https://catboost.ai/docs/concepts/fstr.html#fstr__regular-feature-importance"
      ]
    },
    {
      "cell_type": "markdown",
      "metadata": {
        "id": "cmwV0Tfjbo4A"
      },
      "source": [
        "Мы обучили 5 моделей catboost на кросс-валидации и получаем ответы усреднением предсказаний каждой модели. Чтобы проанализировать значимость признаков, усредним их важность по каждой модели."
      ]
    },
    {
      "cell_type": "code",
      "metadata": {
        "id": "KDYMrW6ubNVa"
      },
      "source": [
        "feature_importances = np.mean(\n",
        "    [list(model.feature_importances_) for model in models],\n",
        "    axis=0\n",
        ")"
      ],
      "execution_count": null,
      "outputs": []
    },
    {
      "cell_type": "code",
      "metadata": {
        "colab": {
          "base_uri": "https://localhost:8080/"
        },
        "id": "C9ylKTrPwrm7",
        "outputId": "2c333744-16fc-43f9-e42c-8a83e11c8f47"
      },
      "source": [
        "sorted(\n",
        "    zip(train_X.columns, feature_importances), \n",
        "    key=lambda p: p[1], \n",
        "    reverse=True\n",
        ")"
      ],
      "execution_count": null,
      "outputs": [
        {
          "output_type": "execute_result",
          "data": {
            "text/plain": [
              "[('meal_id', 28.18494630192866),\n",
              " ('center_id', 14.815281838714592),\n",
              " ('emailer_for_promotion', 11.549236242930183),\n",
              " ('checkout_price', 10.612228644773316),\n",
              " ('homepage_featured', 10.355636378784263),\n",
              " ('category', 9.052215649960292),\n",
              " ('week', 3.8521376828321823),\n",
              " ('base_price', 2.622801019579111),\n",
              " ('op_area', 2.424074408391491),\n",
              " ('cuisine', 2.3570830518516783),\n",
              " ('center_type', 1.7977418947688548),\n",
              " ('region_code', 1.700910922075077),\n",
              " ('city_code', 0.6757059634103323)]"
            ]
          },
          "metadata": {},
          "execution_count": 33
        }
      ]
    }
  ]
}